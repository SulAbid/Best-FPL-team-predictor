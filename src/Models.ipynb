{
 "cells": [
  {
   "cell_type": "code",
   "execution_count": 1,
   "id": "9c4f5ed3",
   "metadata": {},
   "outputs": [],
   "source": [
    "import pandas as pd\n",
    "import numpy as np\n",
    "from sklearn import linear_model\n",
    "from sklearn.linear_model import Ridge\n",
    "from sklearn.ensemble import RandomForestRegressor\n",
    "from sklearn.ensemble import GradientBoostingRegressor\n",
    "from sklearn.tree import DecisionTreeRegressor\n",
    "from sklearn.metrics import mean_squared_error\n",
    "from sklearn.pipeline import make_pipeline\n",
    "from sklearn.model_selection import train_test_split\n",
    "from sklearn.linear_model import LinearRegression\n",
    "from sklearn.model_selection import GridSearchCV\n",
    "import sys\n",
    "import pickle\n",
    "from datetime import datetime\n"
   ]
  },
  {
   "cell_type": "code",
   "execution_count": 2,
   "id": "21f9f55a",
   "metadata": {},
   "outputs": [],
   "source": [
    "\n",
    "sys.stdout=open('test_results.txt','a')"
   ]
  },
  {
   "cell_type": "code",
   "execution_count": 4,
   "id": "e455bd9b",
   "metadata": {},
   "outputs": [],
   "source": [
    "\n",
    "TrainData = pd.read_csv('/Users/SulMac/Desktop/MiskDSI/FPL/Best-FPL-team-predictor/Data/Train/Train.csv')\n",
    "TestData = pd.read_csv('/Users/SulMac/Desktop/MiskDSI/FPL/Best-FPL-team-predictor/Data/Test/Test.csv')"
   ]
  },
  {
   "cell_type": "code",
   "execution_count": 55,
   "id": "7d2a36a5",
   "metadata": {},
   "outputs": [],
   "source": [
    "Traindata_refined = TrainData.loc[:,[i for i in list(TrainData.columns) if i not in ['name','team_x', 'opp_team_name', 'season_x']]]\n",
    "\n",
    "Traindata_refined = pd.get_dummies(Traindata_refined, columns = ['position', 'GW'], drop_first=True)\n",
    "\n",
    "Trcols = Traindata_refined.columns[Traindata_refined.isna().sum()>0]\n",
    "for c in Trcols:\n",
    "    Traindata_refined[c].fillna(0,inplace=True)\n",
    "    "
   ]
  },
  {
   "cell_type": "code",
   "execution_count": 23,
   "id": "d82830fb",
   "metadata": {},
   "outputs": [
    {
     "data": {
      "text/plain": [
       "Index([], dtype='object')"
      ]
     },
     "execution_count": 23,
     "metadata": {},
     "output_type": "execute_result"
    }
   ],
   "source": [
    "Traindata_refined.columns[Traindata_refined.isna().sum()>0]\n"
   ]
  },
  {
   "cell_type": "code",
   "execution_count": 24,
   "id": "61dae67d",
   "metadata": {},
   "outputs": [
    {
     "data": {
      "text/plain": [
       "Index([], dtype='object')"
      ]
     },
     "execution_count": 24,
     "metadata": {},
     "output_type": "execute_result"
    }
   ],
   "source": []
  },
  {
   "cell_type": "code",
   "execution_count": 45,
   "id": "b526de54",
   "metadata": {},
   "outputs": [],
   "source": []
  },
  {
   "cell_type": "code",
   "execution_count": 56,
   "id": "5feb1caf",
   "metadata": {},
   "outputs": [],
   "source": [
    "#xTrain = Traindata_refined.loc[:, Traindata_refined.columns != 'total_points']\n",
    "#yTrain = Traindata_refined['total_points']\n",
    "#xTest = Testdata_refined.loc[:, Testdata_refined.columns != 'total_points']\n",
    "X_train, X_test, y_train, y_test = train_test_split(Traindata_refined.loc[:, Traindata_refined.columns != 'total_points'], Traindata_refined['total_points'], test_size=0.2, random_state=123)\n"
   ]
  },
  {
   "cell_type": "code",
   "execution_count": 61,
   "id": "bf9897b7",
   "metadata": {},
   "outputs": [],
   "source": [
    "results_train = {}\n",
    "results_test = {}"
   ]
  },
  {
   "cell_type": "code",
   "execution_count": 36,
   "id": "12ef3f63",
   "metadata": {},
   "outputs": [
    {
     "data": {
      "text/plain": [
       "((73837, 80), (24565, 69))"
      ]
     },
     "execution_count": 36,
     "metadata": {},
     "output_type": "execute_result"
    }
   ],
   "source": [
    "Traindata_refined.shape , xTest.shape"
   ]
  },
  {
   "cell_type": "code",
   "execution_count": 26,
   "id": "36ee65fb",
   "metadata": {},
   "outputs": [
    {
     "data": {
      "text/plain": [
       "(24565, 70)"
      ]
     },
     "execution_count": 26,
     "metadata": {},
     "output_type": "execute_result"
    }
   ],
   "source": [
    "Testdata_refined.shape"
   ]
  },
  {
   "cell_type": "code",
   "execution_count": 40,
   "id": "525ca81a",
   "metadata": {},
   "outputs": [
    {
     "data": {
      "text/plain": [
       "((73837, 37), (24565, 37))"
      ]
     },
     "execution_count": 40,
     "metadata": {},
     "output_type": "execute_result"
    }
   ],
   "source": [
    "TrainData.shape , TestData.shape"
   ]
  },
  {
   "cell_type": "code",
   "execution_count": 41,
   "id": "db3d8d7a",
   "metadata": {},
   "outputs": [
    {
     "data": {
      "text/plain": [
       "((73837, 37), (24565, 37))"
      ]
     },
     "execution_count": 41,
     "metadata": {},
     "output_type": "execute_result"
    }
   ],
   "source": [
    "TrainData.shape , TestData.shape"
   ]
  },
  {
   "cell_type": "code",
   "execution_count": 20,
   "id": "49039410",
   "metadata": {},
   "outputs": [
    {
     "data": {
      "text/plain": [
       "Index(['Unnamed: 0', 'season_x', 'name', 'position', 'team_x', 'assists',\n",
       "       'bonus', 'bps', 'clean_sheets', 'creativity', 'element', 'fixture',\n",
       "       'goals_conceded', 'goals_scored', 'ict_index', 'influence', 'minutes',\n",
       "       'opponent_team', 'opp_team_name', 'own_goals', 'penalties_missed',\n",
       "       'penalties_saved', 'red_cards', 'round', 'saves', 'selected',\n",
       "       'team_a_score', 'team_h_score', 'threat', 'total_points',\n",
       "       'transfers_balance', 'transfers_in', 'transfers_out', 'value',\n",
       "       'was_home', 'yellow_cards', 'GW'],\n",
       "      dtype='object')"
      ]
     },
     "execution_count": 20,
     "metadata": {},
     "output_type": "execute_result"
    }
   ],
   "source": [
    "TrainData.columns"
   ]
  },
  {
   "cell_type": "code",
   "execution_count": 21,
   "id": "84b951d3",
   "metadata": {},
   "outputs": [
    {
     "data": {
      "text/plain": [
       "Index(['Unnamed: 0', 'season_x', 'name', 'position', 'team_x', 'assists',\n",
       "       'bonus', 'bps', 'clean_sheets', 'creativity', 'element', 'fixture',\n",
       "       'goals_conceded', 'goals_scored', 'ict_index', 'influence', 'minutes',\n",
       "       'opponent_team', 'opp_team_name', 'own_goals', 'penalties_missed',\n",
       "       'penalties_saved', 'red_cards', 'round', 'saves', 'selected',\n",
       "       'team_a_score', 'team_h_score', 'threat', 'total_points',\n",
       "       'transfers_balance', 'transfers_in', 'transfers_out', 'value',\n",
       "       'was_home', 'yellow_cards', 'GW'],\n",
       "      dtype='object')"
      ]
     },
     "execution_count": 21,
     "metadata": {},
     "output_type": "execute_result"
    }
   ],
   "source": [
    "TestData.columns"
   ]
  },
  {
   "cell_type": "code",
   "execution_count": 58,
   "id": "f63eb697",
   "metadata": {},
   "outputs": [],
   "source": [
    "#Random Forest\n",
    "reg = RandomForestRegressor(random_state=0, criterion = 'mse')\n",
    "#Apply grid search for best parameters\n",
    "params = {'randomforestregressor__n_estimators' : range(100,500,200),\n",
    "          'randomforestregressor__min_samples_split' : range(2,10,3)}\n",
    "pipe = make_pipeline(reg)\n",
    "grid = GridSearchCV(pipe, param_grid = params, scoring='neg_mean_squared_error', n_jobs=-1, cv=5)\n",
    "reg = grid.fit(X_train, y_train)"
   ]
  },
  {
   "cell_type": "code",
   "execution_count": 62,
   "id": "510f1e25",
   "metadata": {},
   "outputs": [
    {
     "ename": "ValueError",
     "evalue": "y_true and y_pred have different number of output (1!=79)",
     "output_type": "error",
     "traceback": [
      "\u001b[0;31m---------------------------------------------------------------------------\u001b[0m",
      "\u001b[0;31mValueError\u001b[0m                                Traceback (most recent call last)",
      "\u001b[0;32m/var/folders/6w/mbhy83056zd532sj57m4rcnm0000gn/T/ipykernel_26330/4278996586.py\u001b[0m in \u001b[0;36m<module>\u001b[0;34m\u001b[0m\n\u001b[1;32m      5\u001b[0m \u001b[0my_test_pred\u001b[0m \u001b[0;34m=\u001b[0m \u001b[0mreg\u001b[0m\u001b[0;34m.\u001b[0m\u001b[0mpredict\u001b[0m\u001b[0;34m(\u001b[0m\u001b[0mX_test\u001b[0m\u001b[0;34m)\u001b[0m\u001b[0;34m\u001b[0m\u001b[0;34m\u001b[0m\u001b[0m\n\u001b[1;32m      6\u001b[0m \u001b[0mtr_err\u001b[0m \u001b[0;34m=\u001b[0m \u001b[0mmean_squared_error\u001b[0m\u001b[0;34m(\u001b[0m\u001b[0my_train_pred\u001b[0m\u001b[0;34m,\u001b[0m \u001b[0my_train\u001b[0m\u001b[0;34m)\u001b[0m\u001b[0;34m\u001b[0m\u001b[0;34m\u001b[0m\u001b[0m\n\u001b[0;32m----> 7\u001b[0;31m \u001b[0mts_err\u001b[0m \u001b[0;34m=\u001b[0m \u001b[0mmean_squared_error\u001b[0m\u001b[0;34m(\u001b[0m\u001b[0my_test_pred\u001b[0m\u001b[0;34m,\u001b[0m \u001b[0mX_test\u001b[0m\u001b[0;34m)\u001b[0m\u001b[0;34m\u001b[0m\u001b[0;34m\u001b[0m\u001b[0m\n\u001b[0m\u001b[1;32m      8\u001b[0m \u001b[0mprint\u001b[0m\u001b[0;34m(\u001b[0m\u001b[0;34m\"Training Error: \"\u001b[0m \u001b[0;34m+\u001b[0m \u001b[0mstr\u001b[0m\u001b[0;34m(\u001b[0m\u001b[0mtr_err\u001b[0m\u001b[0;34m)\u001b[0m\u001b[0;34m+\u001b[0m \u001b[0;34m\" Testing Error: \"\u001b[0m \u001b[0;34m+\u001b[0m \u001b[0mstr\u001b[0m\u001b[0;34m(\u001b[0m\u001b[0mts_err\u001b[0m\u001b[0;34m)\u001b[0m\u001b[0;34m)\u001b[0m\u001b[0;34m\u001b[0m\u001b[0;34m\u001b[0m\u001b[0m\n\u001b[1;32m      9\u001b[0m \u001b[0mresults_train\u001b[0m\u001b[0;34m[\u001b[0m\u001b[0;34m'random_forest'\u001b[0m\u001b[0;34m]\u001b[0m \u001b[0;34m=\u001b[0m \u001b[0mtr_err\u001b[0m\u001b[0;34m\u001b[0m\u001b[0;34m\u001b[0m\u001b[0m\n",
      "\u001b[0;32m~/opt/anaconda3/lib/python3.9/site-packages/sklearn/utils/validation.py\u001b[0m in \u001b[0;36minner_f\u001b[0;34m(*args, **kwargs)\u001b[0m\n\u001b[1;32m     61\u001b[0m             \u001b[0mextra_args\u001b[0m \u001b[0;34m=\u001b[0m \u001b[0mlen\u001b[0m\u001b[0;34m(\u001b[0m\u001b[0margs\u001b[0m\u001b[0;34m)\u001b[0m \u001b[0;34m-\u001b[0m \u001b[0mlen\u001b[0m\u001b[0;34m(\u001b[0m\u001b[0mall_args\u001b[0m\u001b[0;34m)\u001b[0m\u001b[0;34m\u001b[0m\u001b[0;34m\u001b[0m\u001b[0m\n\u001b[1;32m     62\u001b[0m             \u001b[0;32mif\u001b[0m \u001b[0mextra_args\u001b[0m \u001b[0;34m<=\u001b[0m \u001b[0;36m0\u001b[0m\u001b[0;34m:\u001b[0m\u001b[0;34m\u001b[0m\u001b[0;34m\u001b[0m\u001b[0m\n\u001b[0;32m---> 63\u001b[0;31m                 \u001b[0;32mreturn\u001b[0m \u001b[0mf\u001b[0m\u001b[0;34m(\u001b[0m\u001b[0;34m*\u001b[0m\u001b[0margs\u001b[0m\u001b[0;34m,\u001b[0m \u001b[0;34m**\u001b[0m\u001b[0mkwargs\u001b[0m\u001b[0;34m)\u001b[0m\u001b[0;34m\u001b[0m\u001b[0;34m\u001b[0m\u001b[0m\n\u001b[0m\u001b[1;32m     64\u001b[0m \u001b[0;34m\u001b[0m\u001b[0m\n\u001b[1;32m     65\u001b[0m             \u001b[0;31m# extra_args > 0\u001b[0m\u001b[0;34m\u001b[0m\u001b[0;34m\u001b[0m\u001b[0m\n",
      "\u001b[0;32m~/opt/anaconda3/lib/python3.9/site-packages/sklearn/metrics/_regression.py\u001b[0m in \u001b[0;36mmean_squared_error\u001b[0;34m(y_true, y_pred, sample_weight, multioutput, squared)\u001b[0m\n\u001b[1;32m    333\u001b[0m     \u001b[0;36m0.825\u001b[0m\u001b[0;34m...\u001b[0m\u001b[0;34m\u001b[0m\u001b[0;34m\u001b[0m\u001b[0m\n\u001b[1;32m    334\u001b[0m     \"\"\"\n\u001b[0;32m--> 335\u001b[0;31m     y_type, y_true, y_pred, multioutput = _check_reg_targets(\n\u001b[0m\u001b[1;32m    336\u001b[0m         y_true, y_pred, multioutput)\n\u001b[1;32m    337\u001b[0m     \u001b[0mcheck_consistent_length\u001b[0m\u001b[0;34m(\u001b[0m\u001b[0my_true\u001b[0m\u001b[0;34m,\u001b[0m \u001b[0my_pred\u001b[0m\u001b[0;34m,\u001b[0m \u001b[0msample_weight\u001b[0m\u001b[0;34m)\u001b[0m\u001b[0;34m\u001b[0m\u001b[0;34m\u001b[0m\u001b[0m\n",
      "\u001b[0;32m~/opt/anaconda3/lib/python3.9/site-packages/sklearn/metrics/_regression.py\u001b[0m in \u001b[0;36m_check_reg_targets\u001b[0;34m(y_true, y_pred, multioutput, dtype)\u001b[0m\n\u001b[1;32m     97\u001b[0m \u001b[0;34m\u001b[0m\u001b[0m\n\u001b[1;32m     98\u001b[0m     \u001b[0;32mif\u001b[0m \u001b[0my_true\u001b[0m\u001b[0;34m.\u001b[0m\u001b[0mshape\u001b[0m\u001b[0;34m[\u001b[0m\u001b[0;36m1\u001b[0m\u001b[0;34m]\u001b[0m \u001b[0;34m!=\u001b[0m \u001b[0my_pred\u001b[0m\u001b[0;34m.\u001b[0m\u001b[0mshape\u001b[0m\u001b[0;34m[\u001b[0m\u001b[0;36m1\u001b[0m\u001b[0;34m]\u001b[0m\u001b[0;34m:\u001b[0m\u001b[0;34m\u001b[0m\u001b[0;34m\u001b[0m\u001b[0m\n\u001b[0;32m---> 99\u001b[0;31m         raise ValueError(\"y_true and y_pred have different number of output \"\n\u001b[0m\u001b[1;32m    100\u001b[0m                          \"({0}!={1})\".format(y_true.shape[1], y_pred.shape[1]))\n\u001b[1;32m    101\u001b[0m \u001b[0;34m\u001b[0m\u001b[0m\n",
      "\u001b[0;31mValueError\u001b[0m: y_true and y_pred have different number of output (1!=79)"
     ]
    }
   ],
   "source": [
    "print('Best MSE for Random Forest Regressor: ', grid.best_score_)\n",
    "print(f'Best Parameters for Random Forest Regressor: Estimators: {grid.best_estimator_} and Min Samples Split: {grid.n_splits_} Params: {grid.best_params_}')\n",
    "\n",
    "y_train_pred = reg.predict(X_train)\n",
    "y_test_pred = reg.predict(X_test)\n",
    "tr_err = mean_squared_error(y_train_pred, y_train)\n",
    "ts_err = mean_squared_error(y_test_pred, X_test)\n",
    "print(\"Training Error: \" + str(tr_err)+ \" Testing Error: \" + str(ts_err))\n",
    "results_train['random_forest'] = tr_err\n",
    "results_test['random_forest'] = ts_err"
   ]
  },
  {
   "cell_type": "code",
   "execution_count": 30,
   "id": "0a449688",
   "metadata": {},
   "outputs": [],
   "source": [
    " print(\"*\"*30+\"Random Forest\"+\"*\"*30)"
   ]
  },
  {
   "cell_type": "code",
   "execution_count": 49,
   "id": "a2180f6a",
   "metadata": {},
   "outputs": [
    {
     "data": {
      "text/plain": [
       "LinearRegression()"
      ]
     },
     "execution_count": 49,
     "metadata": {},
     "output_type": "execute_result"
    }
   ],
   "source": [
    "from sklearn.linear_model import LinearRegression\n",
    "lRegressor = LinearRegression()\n",
    "lRegressor.fit(xTrain, yTrain)\n"
   ]
  },
  {
   "cell_type": "code",
   "execution_count": 63,
   "id": "a7eabd21",
   "metadata": {},
   "outputs": [],
   "source": [
    "#Linear Regression\n",
    "reg = LinearRegression()\n",
    "#Apply grid search for best parameters\n",
    "params = {}\n",
    "pipe = make_pipeline(reg)\n",
    "grid = GridSearchCV(pipe, param_grid = params, scoring='neg_mean_squared_error', n_jobs=-1,  cv=5)\n",
    "reg = grid.fit(X_train, y_train)\n",
    "print('Best MSE: ', grid.best_score_)\n",
    "print('Best Parameters: ', grid.best_estimator_)\n",
    "\n",
    "y_train_pred = reg.predict(X_train)\n",
    "y_test_pred = reg.predict(X_test)\n",
    "tr_err = mean_squared_error(y_train_pred, y_train)\n",
    "ts_err = mean_squared_error(y_test_pred, y_test)\n",
    "print(\"Training Error: \" + str(tr_err)+ \" Testing Error: \" + str(ts_err))\n",
    "results_train['Linear_regression'] = tr_err\n",
    "results_test['Linear_regression'] = ts_err"
   ]
  },
  {
   "cell_type": "code",
   "execution_count": 64,
   "id": "4f97a363",
   "metadata": {},
   "outputs": [],
   "source": [
    "#GBR\n",
    "reg = GradientBoostingRegressor()\n",
    "params = {'gradientboostingregressor__n_estimators' : range(100,300,50),\n",
    "          'gradientboostingregressor__min_samples_split' : range(2,10,2)}\n",
    "pipe = make_pipeline(reg)\n",
    "grid = GridSearchCV(pipe, param_grid = params, scoring='neg_mean_squared_error', n_jobs=-1,cv=5)\n",
    "reg = grid.fit(X_train, y_train)\n",
    "print('Best MSE: ', grid.best_score_)\n",
    "print('Best Parameters: ', grid.best_estimator_)\n",
    "\n",
    "y_train_pred = reg.predict(X_train)\n",
    "y_test_pred = reg.predict(X_test)\n",
    "tr_err = mean_squared_error(y_train_pred, y_train)\n",
    "ts_err = mean_squared_error(y_test_pred, y_test)\n",
    "print(\"Training Error: \" + str(tr_err)+ \" Testing Error: \" + str(ts_err))"
   ]
  },
  {
   "cell_type": "code",
   "execution_count": 65,
   "id": "324d3d7a",
   "metadata": {},
   "outputs": [
    {
     "name": "stderr",
     "output_type": "stream",
     "text": [
      "/Users/SulMac/opt/anaconda3/lib/python3.9/site-packages/sklearn/linear_model/_coordinate_descent.py:530: ConvergenceWarning: Objective did not converge. You might want to increase the number of iterations. Duality gap: 9212.299053436556, tolerance: 34.923868437202415\n",
      "  model = cd_fast.enet_coordinate_descent(\n",
      "/Users/SulMac/opt/anaconda3/lib/python3.9/site-packages/sklearn/linear_model/_coordinate_descent.py:530: ConvergenceWarning: Objective did not converge. You might want to increase the number of iterations. Duality gap: 9239.4620034015, tolerance: 34.9555967283911\n",
      "  model = cd_fast.enet_coordinate_descent(\n",
      "/Users/SulMac/opt/anaconda3/lib/python3.9/site-packages/sklearn/linear_model/_coordinate_descent.py:530: ConvergenceWarning: Objective did not converge. You might want to increase the number of iterations. Duality gap: 9259.631990327527, tolerance: 34.66898438260321\n",
      "  model = cd_fast.enet_coordinate_descent(\n",
      "/Users/SulMac/opt/anaconda3/lib/python3.9/site-packages/sklearn/linear_model/_coordinate_descent.py:530: ConvergenceWarning: Objective did not converge. You might want to increase the number of iterations. Duality gap: 9222.252349539569, tolerance: 34.76194636334919\n",
      "  model = cd_fast.enet_coordinate_descent(\n",
      "/Users/SulMac/opt/anaconda3/lib/python3.9/site-packages/sklearn/linear_model/_coordinate_descent.py:530: ConvergenceWarning: Objective did not converge. You might want to increase the number of iterations. Duality gap: 9449.132996439763, tolerance: 34.923868437202415\n",
      "  model = cd_fast.enet_coordinate_descent(\n",
      "/Users/SulMac/opt/anaconda3/lib/python3.9/site-packages/sklearn/linear_model/_coordinate_descent.py:530: ConvergenceWarning: Objective did not converge. You might want to increase the number of iterations. Duality gap: 9313.022647205418, tolerance: 34.76194636334919\n",
      "  model = cd_fast.enet_coordinate_descent(\n",
      "/Users/SulMac/opt/anaconda3/lib/python3.9/site-packages/sklearn/linear_model/_coordinate_descent.py:530: ConvergenceWarning: Objective did not converge. You might want to increase the number of iterations. Duality gap: 9342.564308923076, tolerance: 34.66898438260321\n",
      "  model = cd_fast.enet_coordinate_descent(\n",
      "/Users/SulMac/opt/anaconda3/lib/python3.9/site-packages/sklearn/linear_model/_coordinate_descent.py:530: ConvergenceWarning: Objective did not converge. You might want to increase the number of iterations. Duality gap: 9265.432526291253, tolerance: 35.17053170814211\n",
      "  model = cd_fast.enet_coordinate_descent(\n",
      "/Users/SulMac/opt/anaconda3/lib/python3.9/site-packages/sklearn/linear_model/_coordinate_descent.py:530: ConvergenceWarning: Objective did not converge. You might want to increase the number of iterations. Duality gap: 1783.7323249838519, tolerance: 34.76194636334919\n",
      "  model = cd_fast.enet_coordinate_descent(\n",
      "/Users/SulMac/opt/anaconda3/lib/python3.9/site-packages/sklearn/linear_model/_coordinate_descent.py:530: ConvergenceWarning: Objective did not converge. You might want to increase the number of iterations. Duality gap: 2000.1728560915763, tolerance: 34.923868437202415\n",
      "  model = cd_fast.enet_coordinate_descent(\n",
      "/Users/SulMac/opt/anaconda3/lib/python3.9/site-packages/sklearn/linear_model/_coordinate_descent.py:530: ConvergenceWarning: Objective did not converge. You might want to increase the number of iterations. Duality gap: 9493.059226810208, tolerance: 35.17053170814211\n",
      "  model = cd_fast.enet_coordinate_descent(\n",
      "/Users/SulMac/opt/anaconda3/lib/python3.9/site-packages/sklearn/linear_model/_coordinate_descent.py:530: ConvergenceWarning: Objective did not converge. You might want to increase the number of iterations. Duality gap: 306.8780880227823, tolerance: 34.9555967283911\n",
      "  model = cd_fast.enet_coordinate_descent(\n",
      "/Users/SulMac/opt/anaconda3/lib/python3.9/site-packages/sklearn/linear_model/_coordinate_descent.py:530: ConvergenceWarning: Objective did not converge. You might want to increase the number of iterations. Duality gap: 1995.6323079939066, tolerance: 35.17053170814211\n",
      "  model = cd_fast.enet_coordinate_descent(\n",
      "/Users/SulMac/opt/anaconda3/lib/python3.9/site-packages/sklearn/linear_model/_coordinate_descent.py:530: ConvergenceWarning: Objective did not converge. You might want to increase the number of iterations. Duality gap: 2027.7197775566165, tolerance: 34.66898438260321\n",
      "  model = cd_fast.enet_coordinate_descent(\n",
      "/Users/SulMac/opt/anaconda3/lib/python3.9/site-packages/sklearn/linear_model/_coordinate_descent.py:530: ConvergenceWarning: Objective did not converge. You might want to increase the number of iterations. Duality gap: 732.8635571789418, tolerance: 34.9555967283911\n",
      "  model = cd_fast.enet_coordinate_descent(\n",
      "/Users/SulMac/opt/anaconda3/lib/python3.9/site-packages/sklearn/linear_model/_coordinate_descent.py:530: ConvergenceWarning: Objective did not converge. You might want to increase the number of iterations. Duality gap: 757.6303740717485, tolerance: 34.76194636334919\n",
      "  model = cd_fast.enet_coordinate_descent(\n",
      "/Users/SulMac/opt/anaconda3/lib/python3.9/site-packages/sklearn/linear_model/_coordinate_descent.py:530: ConvergenceWarning: Objective did not converge. You might want to increase the number of iterations. Duality gap: 778.255081665513, tolerance: 34.923868437202415\n",
      "  model = cd_fast.enet_coordinate_descent(\n",
      "/Users/SulMac/opt/anaconda3/lib/python3.9/site-packages/sklearn/linear_model/_coordinate_descent.py:530: ConvergenceWarning: Objective did not converge. You might want to increase the number of iterations. Duality gap: 937.5872036503715, tolerance: 34.9555967283911\n",
      "  model = cd_fast.enet_coordinate_descent(\n",
      "/Users/SulMac/opt/anaconda3/lib/python3.9/site-packages/sklearn/linear_model/_coordinate_descent.py:530: ConvergenceWarning: Objective did not converge. You might want to increase the number of iterations. Duality gap: 774.7807091911818, tolerance: 34.66898438260321\n",
      "  model = cd_fast.enet_coordinate_descent(\n",
      "/Users/SulMac/opt/anaconda3/lib/python3.9/site-packages/sklearn/linear_model/_coordinate_descent.py:530: ConvergenceWarning: Objective did not converge. You might want to increase the number of iterations. Duality gap: 746.4800153651304, tolerance: 35.17053170814211\n",
      "  model = cd_fast.enet_coordinate_descent(\n",
      "/Users/SulMac/opt/anaconda3/lib/python3.9/site-packages/sklearn/linear_model/_coordinate_descent.py:530: ConvergenceWarning: Objective did not converge. You might want to increase the number of iterations. Duality gap: 1349.873830053897, tolerance: 34.923868437202415\n",
      "  model = cd_fast.enet_coordinate_descent(\n",
      "/Users/SulMac/opt/anaconda3/lib/python3.9/site-packages/sklearn/linear_model/_coordinate_descent.py:530: ConvergenceWarning: Objective did not converge. You might want to increase the number of iterations. Duality gap: 1315.5565998338643, tolerance: 34.76194636334919\n",
      "  model = cd_fast.enet_coordinate_descent(\n",
      "/Users/SulMac/opt/anaconda3/lib/python3.9/site-packages/sklearn/linear_model/_coordinate_descent.py:530: ConvergenceWarning: Objective did not converge. You might want to increase the number of iterations. Duality gap: 1400.5302990557248, tolerance: 34.9555967283911\n",
      "  model = cd_fast.enet_coordinate_descent(\n",
      "/Users/SulMac/opt/anaconda3/lib/python3.9/site-packages/sklearn/linear_model/_coordinate_descent.py:530: ConvergenceWarning: Objective did not converge. You might want to increase the number of iterations. Duality gap: 1348.835919839854, tolerance: 34.66898438260321\n",
      "  model = cd_fast.enet_coordinate_descent(\n",
      "/Users/SulMac/opt/anaconda3/lib/python3.9/site-packages/sklearn/linear_model/_coordinate_descent.py:530: ConvergenceWarning: Objective did not converge. You might want to increase the number of iterations. Duality gap: 1296.0765157015994, tolerance: 35.17053170814211\n",
      "  model = cd_fast.enet_coordinate_descent(\n",
      "/Users/SulMac/opt/anaconda3/lib/python3.9/site-packages/sklearn/linear_model/_coordinate_descent.py:530: ConvergenceWarning: Objective did not converge. You might want to increase the number of iterations. Duality gap: 11551.969532396213, tolerance: 43.62037709797024\n",
      "  model = cd_fast.enet_coordinate_descent(\n"
     ]
    }
   ],
   "source": [
    "#Lasso Linear Regression\n",
    "reg = linear_model.Lasso()\n",
    "#Apply grid search for best parameters\n",
    "params = {'lasso__alpha':[0.001, 0.01, 0.1, 0.5, 0.9]}\n",
    "pipe = make_pipeline(reg)\n",
    "grid = GridSearchCV(pipe, param_grid = params, scoring='neg_mean_squared_error', n_jobs=-1, cv=5)\n",
    "reg = grid.fit(X_train, y_train)\n",
    "print('Best MSE: ', grid.best_score_)\n",
    "print('Best Parameters: ', grid.best_estimator_)\n",
    "\n",
    "y_train_pred = reg.predict(X_train)\n",
    "y_test_pred = reg.predict(X_test)\n",
    "tr_err = mean_squared_error(y_train_pred, y_train)\n",
    "ts_err = mean_squared_error(y_test_pred, y_test)\n",
    "print(\"Training Error: \" + str(tr_err)+ \" Testing Error: \" + str(ts_err))\n",
    "results_train['Lasso_regression'] = tr_err\n",
    "results_test['Lasso_regression'] = ts_err"
   ]
  },
  {
   "cell_type": "code",
   "execution_count": 66,
   "id": "1a00b4b0",
   "metadata": {},
   "outputs": [],
   "source": [
    "print(datetime.now())"
   ]
  },
  {
   "cell_type": "code",
   "execution_count": null,
   "id": "5d8446cf",
   "metadata": {},
   "outputs": [],
   "source": [
    "sys.stdout.close()"
   ]
  },
  {
   "cell_type": "code",
   "execution_count": null,
   "id": "50c64b64",
   "metadata": {},
   "outputs": [],
   "source": []
  }
 ],
 "metadata": {
  "kernelspec": {
   "display_name": "Python 3 (ipykernel)",
   "language": "python",
   "name": "python3"
  },
  "language_info": {
   "codemirror_mode": {
    "name": "ipython",
    "version": 3
   },
   "file_extension": ".py",
   "mimetype": "text/x-python",
   "name": "python",
   "nbconvert_exporter": "python",
   "pygments_lexer": "ipython3",
   "version": "3.9.7"
  }
 },
 "nbformat": 4,
 "nbformat_minor": 5
}
