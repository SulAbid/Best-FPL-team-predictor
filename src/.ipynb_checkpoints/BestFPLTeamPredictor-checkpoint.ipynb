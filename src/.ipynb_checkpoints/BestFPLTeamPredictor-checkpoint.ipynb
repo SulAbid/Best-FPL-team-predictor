{
 "cells": [
  {
   "cell_type": "code",
   "execution_count": 56,
   "id": "ab48b988",
   "metadata": {},
   "outputs": [],
   "source": [
    "import pandas as pd\n",
    "import numpy as np\n",
    "from sklearn.ensemble import RandomForestRegressor\n",
    "from sklearn.ensemble import GradientBoostingRegressor\n",
    "from sklearn.linear_model import LinearRegression\n",
    "from itertools import permutations\n",
    "import pickle\n",
    "from sklearn.metrics import mean_squared_error\n",
    "import plotly.express as px\n",
    "import matplotlib.pyplot as plt\n",
    "from matplotlib.patches import Arc"
   ]
  },
  {
   "cell_type": "code",
   "execution_count": 29,
   "id": "005564da",
   "metadata": {},
   "outputs": [],
   "source": [
    "#Choosing which GW we want to predict\n",
    "input_week=9"
   ]
  },
  {
   "cell_type": "code",
   "execution_count": 30,
   "id": "163ed65b",
   "metadata": {},
   "outputs": [],
   "source": [
    "#Read Input Dataset\n",
    "TraintData = pd.read_csv('/Users/SulMac/Desktop/MiskDSI/FPL/Best-FPL-team-predictor/Data/Train/Train.csv')\n",
    "TestData = pd.read_csv('/Users/SulMac/Desktop/MiskDSI/FPL/Best-FPL-team-predictor/Data/Test/Test.csv')\n",
    "\n",
    "\n",
    "TestData = pd.get_dummies(TestData, columns = ['position'], drop_first=True)\n",
    "TraintData = pd.get_dummies(TraintData, columns = ['position'], drop_first=True)\n",
    "\n",
    "\n",
    "\n",
    "testSet = TestData.loc[((TestData['season_x'] == '2021-22') & (TestData['GW'] == input_week))]\n",
    "X_test = testSet.loc[:,[i for i in list(testSet.columns) if i not in ['total_points', 'name', 'season_x','opp_team_name','team_x']]]\n",
    "y_test = pd.DataFrame(testSet.loc[:, testSet.columns == 'total_points'])\n",
    "\n",
    "trainingSet = TraintData.loc[((TraintData['season_x'] == '2020-21') & (TraintData['GW'] != input_week))\n",
    "                        |(TraintData['season_x'] == '2016-17')|(TraintData['season_x'] == '2017-18')\n",
    "                       |(TraintData['season_x'] == '2018-19')|(TraintData['season_x'] == '2019-20')]\n",
    "\n",
    "X_train = trainingSet.loc[:,[i for i in list(trainingSet.columns) if i not in ['total_points','name', 'season_x','opp_team_name','team_x']]]\n",
    "y_train = pd.DataFrame(trainingSet.loc[:, trainingSet.columns == 'total_points'])"
   ]
  },
  {
   "cell_type": "code",
   "execution_count": 31,
   "id": "24bd8786",
   "metadata": {},
   "outputs": [
    {
     "name": "stderr",
     "output_type": "stream",
     "text": [
      "/var/folders/6w/mbhy83056zd532sj57m4rcnm0000gn/T/ipykernel_32839/4226772697.py:3: DataConversionWarning:\n",
      "\n",
      "A column-vector y was passed when a 1d array was expected. Please change the shape of y to (n_samples,), for example using ravel().\n",
      "\n"
     ]
    },
    {
     "data": {
      "text/plain": [
       "RandomForestRegressor(min_samples_split=5, n_estimators=300)"
      ]
     },
     "execution_count": 31,
     "metadata": {},
     "output_type": "execute_result"
    }
   ],
   "source": [
    "#Random Forest\n",
    "model=RandomForestRegressor(n_estimators=300,min_samples_split=5)\n",
    "model.fit(X_train, y_train)\n"
   ]
  },
  {
   "cell_type": "code",
   "execution_count": 55,
   "id": "5b076af8",
   "metadata": {},
   "outputs": [
    {
     "name": "stdout",
     "output_type": "stream",
     "text": [
      "RF MSE:  0.20393149334787108\n",
      "RF Accuracy:  99.79606850665213\n"
     ]
    }
   ],
   "source": [
    "y_pred=model.predict(X_test)\n",
    "mse=mean_squared_error(y_test, y_pred)\n",
    "print('RF MSE: ',mse )\n",
    "print('RF Accuracy: ', (100-mse))\n",
    "finalSet = testSet.copy(deep=True)\n",
    "finalSet['score'] = y_pred"
   ]
  },
  {
   "cell_type": "code",
   "execution_count": 51,
   "id": "a49779c5",
   "metadata": {},
   "outputs": [],
   "source": [
    "#Linear regression\n",
    "linear_regressor = LinearRegression() \n",
    "linear_regressor.fit(X_train, y_train)\n",
    "Y_pred = linear_regressor.predict(X_test) \n"
   ]
  },
  {
   "cell_type": "code",
   "execution_count": 54,
   "id": "32f7b100",
   "metadata": {},
   "outputs": [
    {
     "name": "stdout",
     "output_type": "stream",
     "text": [
      "LR MSE:  0.3098240819364021\n",
      "LR Accuracy:  99.6901759180636\n"
     ]
    }
   ],
   "source": [
    "mse=mean_squared_error(y_test, Y_pred)\n",
    "print('LR MSE: ',mse )\n",
    "print('LR Accuracy: ', (100-mse))\n",
    "finalSet = testSet.copy(deep=True)\n",
    "finalSet['score'] = Y_pred"
   ]
  },
  {
   "cell_type": "code",
   "execution_count": 63,
   "id": "7aa726d0",
   "metadata": {},
   "outputs": [
    {
     "name": "stderr",
     "output_type": "stream",
     "text": [
      "/Users/SulMac/opt/anaconda3/lib/python3.9/site-packages/sklearn/utils/validation.py:63: DataConversionWarning:\n",
      "\n",
      "A column-vector y was passed when a 1d array was expected. Please change the shape of y to (n_samples, ), for example using ravel().\n",
      "\n"
     ]
    }
   ],
   "source": [
    "#Gradient Boosting Regressor \n",
    "gradientregressor = GradientBoostingRegressor(max_depth=2,n_estimators = 100 , learning_rate = 1.0)\n",
    "\n",
    "Model = gradientregressor.fit(X_train,y_train)\n",
    "\n",
    "GBRy_pred = Model.predict(X_test)"
   ]
  },
  {
   "cell_type": "code",
   "execution_count": 64,
   "id": "a77f6160",
   "metadata": {},
   "outputs": [
    {
     "name": "stdout",
     "output_type": "stream",
     "text": [
      "GBR MSE:  0.06081841808715471\n",
      "GBR Accuracy:  99.93918158191285\n"
     ]
    }
   ],
   "source": [
    "#Evaluation metrics for GBR \n",
    "mse=mean_squared_error(y_test, GBRy_pred)\n",
    "print('GBR MSE: ',mse )\n",
    "print('GBR Accuracy: ', (100-mse))\n",
    "finalSet = testSet.copy(deep=True)\n",
    "finalSet['score'] = GBRy_pred\n",
    "\n",
    "#RF got MSE = 0.20 and Accuarcy = 99.79\n",
    "#LR got MSE = 0.30 and Accuarcy = 99.69\n",
    "#GBR got MSE = 0.06 and Accuarcy = 99.93 , We will pick GBR since it has the best result in terms of MSE and Accuracy. "
   ]
  },
  {
   "cell_type": "code",
   "execution_count": 65,
   "id": "68ced7b9",
   "metadata": {},
   "outputs": [],
   "source": [
    "\n",
    "#Check that we have maximum 3 players from each team\n",
    "def checkTeamLimit(cntTeam):\n",
    "    cntTeamSet = list(set(cntTeam))\n",
    "    for i in cntTeamSet:\n",
    "        counter = 0\n",
    "        for j in cntTeam:\n",
    "            if i == j:\n",
    "                counter += 1\n",
    "        if counter > 3:\n",
    "            return False\n",
    "    return True\n",
    "#Get the best expected line-up for each formation\n",
    "def getBestLineup(scoresDF, threshold = [3, 8, 9, 6], budget = 850):\n",
    "    formations = [[4, 4, 2], [4, 3, 3], [3, 4, 3], [3, 5, 2], [4, 5, 1], [5, 2, 3],[5,4,1]]\n",
    "    scoresDF = scoresDF.sort_values(by='score', ascending=False)\n",
    "    weekPointsDF = scoresDF.sort_values(by='total_points', ascending=False)\n",
    "    expected=[]\n",
    "    actual=[]\n",
    "    lineup=[]\n",
    "    price=[]    \n",
    "    pvInd = scoresDF.columns.get_loc(\"value\")\n",
    "    pnInd = scoresDF.columns.get_loc(\"name\")\n",
    "    wpInd = scoresDF.columns.get_loc(\"total_points\")\n",
    "    sInd = scoresDF.columns.get_loc(\"score\")\n",
    "    ptInd = scoresDF.columns.get_loc(\"team_x\")\n",
    "#     ptInd = \"Arsenal\"\n",
    "    \n",
    "    #Update Current selected permutation of team lineup\n",
    "    def updateCnt(i, df, cntPrice, cntFor, cntActual, cntScore, line, cntTeam, cntMax):\n",
    "        cntPrice += df[i, pvInd]\n",
    "        cntFor.append(df[i, pnInd])\n",
    "        cntActual += df[i, wpInd]\n",
    "        cntScore += df[i, sInd]\n",
    "        cntMax = max(cntMax, df[i, sInd])\n",
    "        cntTeam.append(df[i, ptInd])\n",
    "        return cntPrice, cntFor, cntActual, cntScore, cntTeam, cntMax\n",
    "    GKs = (scoresDF[scoresDF.position_GK == 1]).values\n",
    "    FWs = (scoresDF[scoresDF.position_FWD == 1]).values\n",
    "    MDs = (scoresDF[scoresDF.position_MID == 1]).values\n",
    "    DFs = (scoresDF[(scoresDF.position_GK == 0) & (scoresDF.position_MID == 0) & (scoresDF.position_FWD == 0)]).values\n",
    "    \n",
    "    #get Week Dream Team\n",
    "    GKs2 = weekPointsDF[weekPointsDF.position_GK == 1]\n",
    "    FWs2 = weekPointsDF[weekPointsDF.position_FWD == 1]\n",
    "    MDs2 = weekPointsDF[weekPointsDF.position_MID == 1]\n",
    "    DFs2 = weekPointsDF[(weekPointsDF.position_GK == 0) & (weekPointsDF.position_MID == 0) & (weekPointsDF.position_FWD == 0)]\n",
    "    DreamTeam = []\n",
    "    for i in range(threshold[0]):\n",
    "        DreamTeam.append(GKs2.iloc[i].name)\n",
    "    for i in range(threshold[1]):\n",
    "        DreamTeam.append(DFs2.iloc[i].name)\n",
    "    for i in range(threshold[2]):\n",
    "        DreamTeam.append(MDs2.iloc[i].name)\n",
    "    for i in range(threshold[3]):\n",
    "        DreamTeam.append(FWs2.iloc[i].name)\n",
    "    \n",
    "    \n",
    "    \n",
    "    #get the best line-up for each formation\n",
    "    for formation in formations:\n",
    "        maxi = 0 #Score of Best Line-up\n",
    "        bestFor = 0 #Best Line-up\n",
    "        bestPrice = 0 #Price of Best-Lineup\n",
    "        bestActual = 0 #Actual Score of selected best Formation\n",
    "        \n",
    "        #All permutations of Goal Keepers\n",
    "        gkStr = '1' + '0' * (threshold[0] - 1)\n",
    "        gks = list(set([''.join(p) for p in permutations(gkStr)]))\n",
    "        #All permutations of defenders\n",
    "        dfStr = '1' * formation[0] + '0' * (threshold[1] - formation[0])\n",
    "        dfs = list(set([''.join(p) for p in permutations(dfStr)]))\n",
    "        #All permutations of midfielders\n",
    "        mdStr = '1' * formation[1] + '0' * (threshold[2] - formation[1])\n",
    "        mds = list(set([''.join(p) for p in permutations(mdStr)]))\n",
    "        #All permutations of Forwards\n",
    "        fwStr = '1' * formation[2] + '0' * (threshold[3] - formation[2])\n",
    "        fws = list(set([''.join(p) for p in permutations(fwStr)]))\n",
    "        \n",
    "        #Try all permutations of players\n",
    "        for gk in gks:\n",
    "            for df in dfs:\n",
    "                for md in mds:\n",
    "                    for fw in fws:\n",
    "                        #variables to store cnt permutation (Price - Expected Score - Lineup Names - Actual Score)\n",
    "                        cntPrice = 0\n",
    "                        cntScore = 0\n",
    "                        cntFor = []\n",
    "                        cntActual = 0\n",
    "                        cntMax = 0 # to know maximum expected points lineup to make the highest one as the captain \n",
    "                        cntTeam = []\n",
    "                        for i in range(len(gk)):\n",
    "                            if gk[i] == '1':\n",
    "                                cntPrice, cntFor, cntActual, cntScore, cntTeam, cntMax = updateCnt(i, GKs, cntPrice, cntFor, cntActual, cntScore, 'GKP', cntTeam, cntMax)\n",
    "                        for i in range(len(df)):\n",
    "                            if df[i] == '1':\n",
    "                                cntPrice, cntFor, cntActual, cntScore, cntTeam, cntMax = updateCnt(i, DFs, cntPrice, cntFor, cntActual, cntScore, 'DEF', cntTeam, cntMax)\n",
    "                        for i in range(len(md)):\n",
    "                            if md[i] == '1':\n",
    "                                cntPrice, cntFor, cntActual, cntScore, cntTeam, cntMax = updateCnt(i, MDs, cntPrice, cntFor, cntActual, cntScore, 'MID', cntTeam, cntMax)\n",
    "                        for i in range(len(fw)):\n",
    "                            if fw[i] == '1':\n",
    "                                cntPrice, cntFor, cntActual, cntScore, cntTeam, cntMax = updateCnt(i, FWs, cntPrice, cntFor, cntActual, cntScore, 'FWD', cntTeam, cntMax)\n",
    "                        \n",
    "                        cntScore = cntMax + cntScore # Captain Score is doubled\n",
    "                        if cntPrice <= budget and cntScore > maxi and checkTeamLimit(cntTeam): #Check Budget - Maximum Score - 3 players max from each team \n",
    "                            maxi = cntScore\n",
    "                            bestFor = cntFor\n",
    "                            bestPrice = cntPrice\n",
    "                            bestActual = cntActual\n",
    "        counter = 0\n",
    "        for p in bestFor:\n",
    "            if p in DreamTeam:\n",
    "                counter += 1\n",
    "        bestPercent = counter / 11.0 * 100\n",
    "        \n",
    "        lineup.append(bestFor)\n",
    "        expected.append(maxi)\n",
    "        actual.append(bestActual)\n",
    "        price.append(bestPrice)\n",
    "\n",
    "    return formations,lineup,expected,actual,price\n",
    "        "
   ]
  },
  {
   "cell_type": "code",
   "execution_count": 66,
   "id": "c5b3da96",
   "metadata": {},
   "outputs": [],
   "source": [
    "formations,lineup,expected,actual,price=getBestLineup(finalSet)"
   ]
  },
  {
   "cell_type": "code",
   "execution_count": 67,
   "id": "a50e744e",
   "metadata": {},
   "outputs": [],
   "source": [
    "formations=['4-4-2','4-3-3','3-4-3','3-5-2','4-5-1','5-2-3','5-4-1']"
   ]
  },
  {
   "cell_type": "code",
   "execution_count": 68,
   "id": "e4183c53",
   "metadata": {},
   "outputs": [],
   "source": [
    "df=pd.DataFrame(list(zip(formations,price,expected,actual,lineup)),columns=['Formations','Price','Predicted','Actual','Lineup'])"
   ]
  },
  {
   "cell_type": "code",
   "execution_count": 69,
   "id": "b8f95f5d",
   "metadata": {},
   "outputs": [
    {
     "data": {
      "text/html": [
       "<div>\n",
       "<style scoped>\n",
       "    .dataframe tbody tr th:only-of-type {\n",
       "        vertical-align: middle;\n",
       "    }\n",
       "\n",
       "    .dataframe tbody tr th {\n",
       "        vertical-align: top;\n",
       "    }\n",
       "\n",
       "    .dataframe thead th {\n",
       "        text-align: right;\n",
       "    }\n",
       "</style>\n",
       "<table border=\"1\" class=\"dataframe\">\n",
       "  <thead>\n",
       "    <tr style=\"text-align: right;\">\n",
       "      <th></th>\n",
       "      <th>Formations</th>\n",
       "      <th>Price</th>\n",
       "      <th>Predicted</th>\n",
       "      <th>Actual</th>\n",
       "      <th>Lineup</th>\n",
       "    </tr>\n",
       "  </thead>\n",
       "  <tbody>\n",
       "    <tr>\n",
       "      <th>0</th>\n",
       "      <td>4-4-2</td>\n",
       "      <td>746</td>\n",
       "      <td>181.715297</td>\n",
       "      <td>166</td>\n",
       "      <td>[Emiliano Martínez, Reece James, Aaron Cresswe...</td>\n",
       "    </tr>\n",
       "    <tr>\n",
       "      <th>1</th>\n",
       "      <td>4-3-3</td>\n",
       "      <td>749</td>\n",
       "      <td>175.563166</td>\n",
       "      <td>159</td>\n",
       "      <td>[Emiliano Martínez, Reece James, Aaron Cresswe...</td>\n",
       "    </tr>\n",
       "    <tr>\n",
       "      <th>2</th>\n",
       "      <td>3-4-3</td>\n",
       "      <td>752</td>\n",
       "      <td>180.194052</td>\n",
       "      <td>162</td>\n",
       "      <td>[Emiliano Martínez, Reece James, Aaron Cresswe...</td>\n",
       "    </tr>\n",
       "    <tr>\n",
       "      <th>3</th>\n",
       "      <td>3-5-2</td>\n",
       "      <td>743</td>\n",
       "      <td>184.755292</td>\n",
       "      <td>167</td>\n",
       "      <td>[Emiliano Martínez, Reece James, Aaron Cresswe...</td>\n",
       "    </tr>\n",
       "    <tr>\n",
       "      <th>4</th>\n",
       "      <td>4-5-1</td>\n",
       "      <td>748</td>\n",
       "      <td>182.519144</td>\n",
       "      <td>167</td>\n",
       "      <td>[Emiliano Martínez, Reece James, Aaron Cresswe...</td>\n",
       "    </tr>\n",
       "    <tr>\n",
       "      <th>5</th>\n",
       "      <td>5-2-3</td>\n",
       "      <td>712</td>\n",
       "      <td>167.510834</td>\n",
       "      <td>150</td>\n",
       "      <td>[Emiliano Martínez, Reece James, Aaron Cresswe...</td>\n",
       "    </tr>\n",
       "    <tr>\n",
       "      <th>6</th>\n",
       "      <td>5-4-1</td>\n",
       "      <td>737</td>\n",
       "      <td>178.573676</td>\n",
       "      <td>163</td>\n",
       "      <td>[Emiliano Martínez, Reece James, Aaron Cresswe...</td>\n",
       "    </tr>\n",
       "  </tbody>\n",
       "</table>\n",
       "</div>"
      ],
      "text/plain": [
       "  Formations  Price   Predicted  Actual  \\\n",
       "0      4-4-2    746  181.715297     166   \n",
       "1      4-3-3    749  175.563166     159   \n",
       "2      3-4-3    752  180.194052     162   \n",
       "3      3-5-2    743  184.755292     167   \n",
       "4      4-5-1    748  182.519144     167   \n",
       "5      5-2-3    712  167.510834     150   \n",
       "6      5-4-1    737  178.573676     163   \n",
       "\n",
       "                                              Lineup  \n",
       "0  [Emiliano Martínez, Reece James, Aaron Cresswe...  \n",
       "1  [Emiliano Martínez, Reece James, Aaron Cresswe...  \n",
       "2  [Emiliano Martínez, Reece James, Aaron Cresswe...  \n",
       "3  [Emiliano Martínez, Reece James, Aaron Cresswe...  \n",
       "4  [Emiliano Martínez, Reece James, Aaron Cresswe...  \n",
       "5  [Emiliano Martínez, Reece James, Aaron Cresswe...  \n",
       "6  [Emiliano Martínez, Reece James, Aaron Cresswe...  "
      ]
     },
     "execution_count": 69,
     "metadata": {},
     "output_type": "execute_result"
    }
   ],
   "source": [
    "#Showing each Formation prediction and real points\n",
    "df.head(7)"
   ]
  },
  {
   "cell_type": "code",
   "execution_count": 70,
   "id": "43d4c1b2",
   "metadata": {},
   "outputs": [],
   "source": [
    "def add_text(plt,xys,names):    \n",
    "    c=0\n",
    "    for i,j in xys:\n",
    "        split_name=names[c].split(' ')\n",
    "        if len(split_name)>1:\n",
    "            nam=split_name[-1]\n",
    "        else:\n",
    "            nam=split_name[0]\n",
    "            \n",
    "        if names[c]=='Cristiano Ronaldo dos Santos Aveiro':\n",
    "            nam=\"Ronaldo\"\n",
    "        if names[c]=='Bernardo Mota Veiga de Carvalho e Silva':\n",
    "            nam='Bernardo'\n",
    "        plt.annotate(nam,  xy=(i, j), color='black',\n",
    "            fontsize=\"small\", weight='heavy',\n",
    "            horizontalalignment='center',\n",
    "            verticalalignment='center')\n",
    "        c=c+1"
   ]
  },
  {
   "cell_type": "code",
   "execution_count": 71,
   "id": "164761e5",
   "metadata": {},
   "outputs": [],
   "source": [
    "#Visualizing a football pitch and the line-up\n",
    "\n",
    "def createPitch(formation,df,expected):\n",
    "    msize=50\n",
    "    fig=plt.figure(figsize=(7,5))\n",
    "    ax=fig.add_subplot(1,1,1)\n",
    "    plt.plot([10],[45], marker=\"o\", markersize=msize, markeredgecolor=\"black\", markerfacecolor=\"red\")   \n",
    "    gk_name=df.Lineup[df.Formations==formation].values[0][0]\n",
    "    gk_list=[]\n",
    "    gk_list.append(gk_name)\n",
    "    add_text(plt,zip([10],[45]),gk_list)\n",
    "    \n",
    "    \n",
    "    if formation=='4-3-3':\n",
    "        d_names=df.Lineup[df.Formations==formation].values[0][1:5]\n",
    "        m_names=df.Lineup[df.Formations==formation].values[0][5:8]\n",
    "        f_names=df.Lineup[df.Formations==formation].values[0][8:11]\n",
    "        \n",
    "        de_x=[33,28,28,33]\n",
    "        de_y=[13,35,55,77]\n",
    "        m_x,m_y= [57,82,57], [20,45,70]\n",
    "        f_x,f_y= [103,120,103], [15,45,75]\n",
    "        \n",
    "        plt.plot(de_x, de_y, marker=\"o\", markersize=msize, markeredgecolor=\"red\", markerfacecolor=\"yellow\")\n",
    "        plt.plot(m_x,m_y ,marker=\"o\", markersize=msize, markeredgecolor=\"green\", markerfacecolor=\"green\")\n",
    "        plt.plot(f_x,f_y, marker=\"o\", markersize=msize, markeredgecolor=\"black\", markerfacecolor=\"blue\") \n",
    "        \n",
    "        add_text(plt,zip(de_x,de_y),d_names)\n",
    "        add_text(plt,zip(m_x,m_y),m_names)\n",
    "        add_text(plt,zip(f_x,f_y),f_names)\n",
    "        \n",
    "        \n",
    "    if formation=='4-4-2':\n",
    "        d_names=df.Lineup[df.Formations==formation].values[0][1:5]\n",
    "        m_names=df.Lineup[df.Formations==formation].values[0][5:9]\n",
    "        f_names=df.Lineup[df.Formations==formation].values[0][9:11]\n",
    "        \n",
    "        de_x,de_y=[33,28,28,33], [13,35,55,77]\n",
    "        m_x,m_y= [52,77,77,52], [20,30,60,70]\n",
    "        f_x,f_y= [103,103], [30,60]\n",
    "        \n",
    "        plt.plot(de_x, de_y, marker=\"o\", markersize=msize, markeredgecolor=\"red\", markerfacecolor=\"yellow\")\n",
    "        plt.plot(m_x,m_y ,marker=\"o\", markersize=msize, markeredgecolor=\"green\", markerfacecolor=\"green\")\n",
    "        plt.plot(f_x,f_y, marker=\"o\", markersize=msize, markeredgecolor=\"black\", markerfacecolor=\"blue\") \n",
    "        \n",
    "        add_text(plt,zip(de_x,de_y),d_names)\n",
    "        add_text(plt,zip(m_x,m_y),m_names)\n",
    "        add_text(plt,zip(f_x,f_y),f_names)\n",
    "        \n",
    "    if formation=='3-4-3':\n",
    "        d_names=df.Lineup[df.Formations==formation].values[0][1:4]\n",
    "        m_names=df.Lineup[df.Formations==formation].values[0][4:8]\n",
    "        f_names=df.Lineup[df.Formations==formation].values[0][8:11]\n",
    "        \n",
    "        de_x,de_y= [28,28,28], [20,45,70]\n",
    "        m_x,m_y= [52,77,77,52], [20,30,60,70]\n",
    "        f_x,f_y= [103,120,103], [15,45,75]\n",
    "        \n",
    "        plt.plot(de_x, de_y, marker=\"o\", markersize=msize, markeredgecolor=\"red\", markerfacecolor=\"yellow\")\n",
    "        plt.plot(m_x,m_y ,marker=\"o\", markersize=msize, markeredgecolor=\"green\", markerfacecolor=\"green\")\n",
    "        plt.plot(f_x,f_y, marker=\"o\", markersize=msize, markeredgecolor=\"black\", markerfacecolor=\"blue\") \n",
    "        \n",
    "        add_text(plt,zip(de_x,de_y),d_names)\n",
    "        add_text(plt,zip(m_x,m_y),m_names)\n",
    "        add_text(plt,zip(f_x,f_y),f_names)\n",
    "        \n",
    "      \n",
    "        \n",
    "    if formation=='3-5-2':\n",
    "        d_names=df.Lineup[df.Formations==formation].values[0][1:4]\n",
    "        m_names=df.Lineup[df.Formations==formation].values[0][4:9]\n",
    "        f_names=df.Lineup[df.Formations==formation].values[0][9:11]\n",
    "        \n",
    "        de_x,de_y= [28,28,28], [20,45,70]\n",
    "        m_x,m_y= [72,57,52,57,72], [10,25,45,65,80]\n",
    "        f_x,f_y= [103,103], [30,60]\n",
    "        \n",
    "        plt.plot(de_x, de_y, marker=\"o\", markersize=msize, markeredgecolor=\"red\", markerfacecolor=\"yellow\")\n",
    "        plt.plot(m_x,m_y ,marker=\"o\", markersize=msize, markeredgecolor=\"green\", markerfacecolor=\"green\")\n",
    "        plt.plot(f_x,f_y, marker=\"o\", markersize=msize, markeredgecolor=\"black\", markerfacecolor=\"blue\") \n",
    "        \n",
    "        add_text(plt,zip(de_x,de_y),d_names)\n",
    "        add_text(plt,zip(m_x,m_y),m_names)\n",
    "        add_text(plt,zip(f_x,f_y),f_names)\n",
    "        \n",
    "        \n",
    "    if formation=='4-5-1':\n",
    "        d_names=df.Lineup[df.Formations==formation].values[0][1:5]\n",
    "        m_names=df.Lineup[df.Formations==formation].values[0][5:10]\n",
    "        f_names=df.Lineup[df.Formations==formation].values[0][10:11]\n",
    "        \n",
    "        de_x,de_y= [33,27,27,32], [13,35,55,77]\n",
    "        m_x,m_y= [52,72,72,52], [15,30,60,75]\n",
    "        m2_x,m2_y=[92],[45]\n",
    "        f_x,f_y= [112], [45]\n",
    "        \n",
    "        plt.plot(de_x, de_y, marker=\"o\", markersize=msize, markeredgecolor=\"red\", markerfacecolor=\"yellow\")\n",
    "        plt.plot(m_x,m_y ,marker=\"o\", markersize=msize, markeredgecolor=\"green\", markerfacecolor=\"green\")\n",
    "        plt.plot(m2_x,m2_y ,marker=\"o\", markersize=msize, markeredgecolor=\"green\", markerfacecolor=\"green\")\n",
    "        plt.plot(f_x,f_y, marker=\"o\", markersize=msize, markeredgecolor=\"black\", markerfacecolor=\"blue\") \n",
    "        \n",
    "        add_text(plt,zip(de_x,de_y),d_names)\n",
    "        add_text(plt,zip(m_x,m_y),m_names)\n",
    "        add_text(plt,zip(m2_x,m2_y),m_names)\n",
    "        add_text(plt,zip(f_x,f_y),f_names)\n",
    "        \n",
    "    if formation=='5-2-3':\n",
    "        d_names=df.Lineup[df.Formations==formation].values[0][1:6]\n",
    "        m_names=df.Lineup[df.Formations==formation].values[0][6:8]\n",
    "        f_names=df.Lineup[df.Formations==formation].values[0][8:11]\n",
    "        \n",
    "        de_x,de_y= [35,27,27,27,35], [10,30,45,60,80]\n",
    "        m_x,m_y= [60,60], [35,65]\n",
    "        f_x,f_y= [103,120,103], [15,45,75]\n",
    "        plt.plot(de_x, de_y, marker=\"o\", markersize=msize, markeredgecolor=\"red\", markerfacecolor=\"yellow\")\n",
    "        plt.plot(m_x,m_y ,marker=\"o\", markersize=msize, markeredgecolor=\"green\", markerfacecolor=\"green\")\n",
    "        plt.plot(f_x,f_y, marker=\"o\", markersize=msize, markeredgecolor=\"black\", markerfacecolor=\"blue\") \n",
    "        \n",
    "        add_text(plt,zip(de_x,de_y),d_names)\n",
    "        add_text(plt,zip(m_x,m_y),m_names)\n",
    "        add_text(plt,zip(f_x,f_y),f_names)\n",
    "        \n",
    "    if formation=='5-4-1':\n",
    "        d_names=df.Lineup[df.Formations==formation].values[0][1:6]\n",
    "        m_names=df.Lineup[df.Formations==formation].values[0][6:10]\n",
    "        f_names=df.Lineup[df.Formations==formation].values[0][10:11]\n",
    "        \n",
    "        de_x,de_y= [35,27,27,27,35], [10,30,45,60,80]\n",
    "        m_x,m_y= [52,77,77,52], [20,30,60,70]\n",
    "        f_x,f_y= [112], [45]\n",
    "        plt.plot(de_x, de_y, marker=\"o\", markersize=msize, markeredgecolor=\"red\", markerfacecolor=\"yellow\")\n",
    "        plt.plot(m_x,m_y ,marker=\"o\", markersize=msize, markeredgecolor=\"green\", markerfacecolor=\"green\")\n",
    "        plt.plot(f_x,f_y, marker=\"o\", markersize=msize, markeredgecolor=\"black\", markerfacecolor=\"blue\") \n",
    "        \n",
    "        add_text(plt,zip(de_x,de_y),d_names)\n",
    "        add_text(plt,zip(m_x,m_y),m_names)\n",
    "        add_text(plt,zip(f_x,f_y),f_names)\n",
    "        \n",
    "    \n",
    "#     plt.plot([5,45],gk,color='red')\n",
    "    #Pitch Outline & Centre Line\n",
    "    plt.plot([0,0],[0,90], color=\"black\")\n",
    "    plt.plot([0,130],[90,90], color=\"black\")\n",
    "    plt.plot([130,130],[90,0], color=\"black\")\n",
    "    plt.plot([130,0],[0,0], color=\"black\")\n",
    "    plt.plot([65,65],[0,90], color=\"black\")\n",
    "    \n",
    "    #Left Penalty Area\n",
    "    plt.plot([16.5,16.5],[65,25],color=\"black\")\n",
    "    plt.plot([0,16.5],[65,65],color=\"black\")\n",
    "    plt.plot([16.5,0],[25,25],color=\"black\")\n",
    "    \n",
    "    #Right Penalty Area\n",
    "    plt.plot([130,113.5],[65,65],color=\"black\")\n",
    "    plt.plot([113.5,113.5],[65,25],color=\"black\")\n",
    "    plt.plot([113.5,130],[25,25],color=\"black\")\n",
    "    \n",
    "    #Left 6-yard Box\n",
    "    plt.plot([0,5.5],[54,54],color=\"black\")\n",
    "    plt.plot([5.5,5.5],[54,36],color=\"black\")\n",
    "    plt.plot([5.5,0.5],[36,36],color=\"black\")\n",
    "    \n",
    "    #Right 6-yard Box\n",
    "    plt.plot([130,124.5],[54,54],color=\"black\")\n",
    "    plt.plot([124.5,124.5],[54,36],color=\"black\")\n",
    "    plt.plot([124.5,130],[36,36],color=\"black\")\n",
    "    \n",
    "    #Prepare Circles\n",
    "    centreCircle = plt.Circle((65,45),9.15,color=\"black\",fill=False)\n",
    "    centreSpot = plt.Circle((65,45),0.8,color=\"black\")\n",
    "    leftPenSpot = plt.Circle((11,45),0.8,color=\"black\")\n",
    "    rightPenSpot = plt.Circle((119,45),0.8,color=\"black\")\n",
    "    \n",
    "    #Draw Circles\n",
    "    ax.add_patch(centreCircle)\n",
    "    ax.add_patch(centreSpot)\n",
    "    ax.add_patch(leftPenSpot)\n",
    "    ax.add_patch(rightPenSpot)\n",
    "    \n",
    "    #Prepare Arcs\n",
    "    leftArc = Arc((11,45),height=18.3,width=18.3,angle=0,theta1=310,theta2=50,color=\"black\")\n",
    "    rightArc = Arc((119,45),height=18.3,width=18.3,angle=0,theta1=130,theta2=230,color=\"black\")\n",
    "\n",
    "    #Draw Arcs\n",
    "    ax.add_patch(leftArc)\n",
    "    ax.add_patch(rightArc)\n",
    "    if expected:\n",
    "        plt.title(formation + \" Points Expected: \" + str(int(df.Predicted[df.Formations==formation].values[0])))\n",
    "    else:\n",
    "        plt.title(formation + \" Points Actual: \" + str(int(df.Actual[df.Formations==formation].values[0])))\n",
    "    #Tidy Axes\n",
    "    plt.axis('off')\n",
    "    #Display Pitch\n",
    "    plt.show()\n",
    "    "
   ]
  },
  {
   "cell_type": "code",
   "execution_count": 72,
   "id": "99f7bc61",
   "metadata": {},
   "outputs": [],
   "source": [
    "# Get Predicted formation\n",
    "form=df.Formations[df.Predicted==max(df.Predicted)]\n",
    "form=form.values[0]\n",
    "\n",
    "#Get actual Formation\n",
    "\n",
    "form2=df.Formations[df.Actual==max(df.Actual)]\n",
    "form2=form2.values[0]"
   ]
  },
  {
   "cell_type": "code",
   "execution_count": 76,
   "id": "5a40e046",
   "metadata": {},
   "outputs": [
    {
     "data": {
      "application/vnd.plotly.v1+json": {
       "config": {
        "plotlyServerURL": "https://plot.ly"
       },
       "data": [
        {
         "alignmentgroup": "True",
         "hovertemplate": "variable=Predicted<br>Formations=%{x}<br>Points=%{y}<extra></extra>",
         "legendgroup": "Predicted",
         "marker": {
          "color": "#636efa",
          "pattern": {
           "shape": ""
          }
         },
         "name": "Predicted",
         "offsetgroup": "Predicted",
         "orientation": "v",
         "showlegend": true,
         "textposition": "auto",
         "type": "bar",
         "x": [
          "4-4-2",
          "4-3-3",
          "3-4-3",
          "3-5-2",
          "4-5-1",
          "5-2-3",
          "5-4-1"
         ],
         "xaxis": "x",
         "y": [
          181.71529682380333,
          175.56316616575302,
          180.19405159123588,
          184.75529217979997,
          182.5191443042495,
          167.51083358937467,
          178.57367599610492
         ],
         "yaxis": "y"
        },
        {
         "alignmentgroup": "True",
         "hovertemplate": "variable=Actual<br>Formations=%{x}<br>Points=%{y}<extra></extra>",
         "legendgroup": "Actual",
         "marker": {
          "color": "#EF553B",
          "pattern": {
           "shape": ""
          }
         },
         "name": "Actual",
         "offsetgroup": "Actual",
         "orientation": "v",
         "showlegend": true,
         "textposition": "auto",
         "type": "bar",
         "x": [
          "4-4-2",
          "4-3-3",
          "3-4-3",
          "3-5-2",
          "4-5-1",
          "5-2-3",
          "5-4-1"
         ],
         "xaxis": "x",
         "y": [
          166,
          159,
          162,
          167,
          167,
          150,
          163
         ],
         "yaxis": "y"
        }
       ],
       "layout": {
        "barmode": "group",
        "legend": {
         "title": {
          "text": "variable"
         },
         "tracegroupgap": 0
        },
        "template": {
         "data": {
          "bar": [
           {
            "error_x": {
             "color": "#2a3f5f"
            },
            "error_y": {
             "color": "#2a3f5f"
            },
            "marker": {
             "line": {
              "color": "#E5ECF6",
              "width": 0.5
             },
             "pattern": {
              "fillmode": "overlay",
              "size": 10,
              "solidity": 0.2
             }
            },
            "type": "bar"
           }
          ],
          "barpolar": [
           {
            "marker": {
             "line": {
              "color": "#E5ECF6",
              "width": 0.5
             },
             "pattern": {
              "fillmode": "overlay",
              "size": 10,
              "solidity": 0.2
             }
            },
            "type": "barpolar"
           }
          ],
          "carpet": [
           {
            "aaxis": {
             "endlinecolor": "#2a3f5f",
             "gridcolor": "white",
             "linecolor": "white",
             "minorgridcolor": "white",
             "startlinecolor": "#2a3f5f"
            },
            "baxis": {
             "endlinecolor": "#2a3f5f",
             "gridcolor": "white",
             "linecolor": "white",
             "minorgridcolor": "white",
             "startlinecolor": "#2a3f5f"
            },
            "type": "carpet"
           }
          ],
          "choropleth": [
           {
            "colorbar": {
             "outlinewidth": 0,
             "ticks": ""
            },
            "type": "choropleth"
           }
          ],
          "contour": [
           {
            "colorbar": {
             "outlinewidth": 0,
             "ticks": ""
            },
            "colorscale": [
             [
              0,
              "#0d0887"
             ],
             [
              0.1111111111111111,
              "#46039f"
             ],
             [
              0.2222222222222222,
              "#7201a8"
             ],
             [
              0.3333333333333333,
              "#9c179e"
             ],
             [
              0.4444444444444444,
              "#bd3786"
             ],
             [
              0.5555555555555556,
              "#d8576b"
             ],
             [
              0.6666666666666666,
              "#ed7953"
             ],
             [
              0.7777777777777778,
              "#fb9f3a"
             ],
             [
              0.8888888888888888,
              "#fdca26"
             ],
             [
              1,
              "#f0f921"
             ]
            ],
            "type": "contour"
           }
          ],
          "contourcarpet": [
           {
            "colorbar": {
             "outlinewidth": 0,
             "ticks": ""
            },
            "type": "contourcarpet"
           }
          ],
          "heatmap": [
           {
            "colorbar": {
             "outlinewidth": 0,
             "ticks": ""
            },
            "colorscale": [
             [
              0,
              "#0d0887"
             ],
             [
              0.1111111111111111,
              "#46039f"
             ],
             [
              0.2222222222222222,
              "#7201a8"
             ],
             [
              0.3333333333333333,
              "#9c179e"
             ],
             [
              0.4444444444444444,
              "#bd3786"
             ],
             [
              0.5555555555555556,
              "#d8576b"
             ],
             [
              0.6666666666666666,
              "#ed7953"
             ],
             [
              0.7777777777777778,
              "#fb9f3a"
             ],
             [
              0.8888888888888888,
              "#fdca26"
             ],
             [
              1,
              "#f0f921"
             ]
            ],
            "type": "heatmap"
           }
          ],
          "heatmapgl": [
           {
            "colorbar": {
             "outlinewidth": 0,
             "ticks": ""
            },
            "colorscale": [
             [
              0,
              "#0d0887"
             ],
             [
              0.1111111111111111,
              "#46039f"
             ],
             [
              0.2222222222222222,
              "#7201a8"
             ],
             [
              0.3333333333333333,
              "#9c179e"
             ],
             [
              0.4444444444444444,
              "#bd3786"
             ],
             [
              0.5555555555555556,
              "#d8576b"
             ],
             [
              0.6666666666666666,
              "#ed7953"
             ],
             [
              0.7777777777777778,
              "#fb9f3a"
             ],
             [
              0.8888888888888888,
              "#fdca26"
             ],
             [
              1,
              "#f0f921"
             ]
            ],
            "type": "heatmapgl"
           }
          ],
          "histogram": [
           {
            "marker": {
             "pattern": {
              "fillmode": "overlay",
              "size": 10,
              "solidity": 0.2
             }
            },
            "type": "histogram"
           }
          ],
          "histogram2d": [
           {
            "colorbar": {
             "outlinewidth": 0,
             "ticks": ""
            },
            "colorscale": [
             [
              0,
              "#0d0887"
             ],
             [
              0.1111111111111111,
              "#46039f"
             ],
             [
              0.2222222222222222,
              "#7201a8"
             ],
             [
              0.3333333333333333,
              "#9c179e"
             ],
             [
              0.4444444444444444,
              "#bd3786"
             ],
             [
              0.5555555555555556,
              "#d8576b"
             ],
             [
              0.6666666666666666,
              "#ed7953"
             ],
             [
              0.7777777777777778,
              "#fb9f3a"
             ],
             [
              0.8888888888888888,
              "#fdca26"
             ],
             [
              1,
              "#f0f921"
             ]
            ],
            "type": "histogram2d"
           }
          ],
          "histogram2dcontour": [
           {
            "colorbar": {
             "outlinewidth": 0,
             "ticks": ""
            },
            "colorscale": [
             [
              0,
              "#0d0887"
             ],
             [
              0.1111111111111111,
              "#46039f"
             ],
             [
              0.2222222222222222,
              "#7201a8"
             ],
             [
              0.3333333333333333,
              "#9c179e"
             ],
             [
              0.4444444444444444,
              "#bd3786"
             ],
             [
              0.5555555555555556,
              "#d8576b"
             ],
             [
              0.6666666666666666,
              "#ed7953"
             ],
             [
              0.7777777777777778,
              "#fb9f3a"
             ],
             [
              0.8888888888888888,
              "#fdca26"
             ],
             [
              1,
              "#f0f921"
             ]
            ],
            "type": "histogram2dcontour"
           }
          ],
          "mesh3d": [
           {
            "colorbar": {
             "outlinewidth": 0,
             "ticks": ""
            },
            "type": "mesh3d"
           }
          ],
          "parcoords": [
           {
            "line": {
             "colorbar": {
              "outlinewidth": 0,
              "ticks": ""
             }
            },
            "type": "parcoords"
           }
          ],
          "pie": [
           {
            "automargin": true,
            "type": "pie"
           }
          ],
          "scatter": [
           {
            "fillpattern": {
             "fillmode": "overlay",
             "size": 10,
             "solidity": 0.2
            },
            "type": "scatter"
           }
          ],
          "scatter3d": [
           {
            "line": {
             "colorbar": {
              "outlinewidth": 0,
              "ticks": ""
             }
            },
            "marker": {
             "colorbar": {
              "outlinewidth": 0,
              "ticks": ""
             }
            },
            "type": "scatter3d"
           }
          ],
          "scattercarpet": [
           {
            "marker": {
             "colorbar": {
              "outlinewidth": 0,
              "ticks": ""
             }
            },
            "type": "scattercarpet"
           }
          ],
          "scattergeo": [
           {
            "marker": {
             "colorbar": {
              "outlinewidth": 0,
              "ticks": ""
             }
            },
            "type": "scattergeo"
           }
          ],
          "scattergl": [
           {
            "marker": {
             "colorbar": {
              "outlinewidth": 0,
              "ticks": ""
             }
            },
            "type": "scattergl"
           }
          ],
          "scattermapbox": [
           {
            "marker": {
             "colorbar": {
              "outlinewidth": 0,
              "ticks": ""
             }
            },
            "type": "scattermapbox"
           }
          ],
          "scatterpolar": [
           {
            "marker": {
             "colorbar": {
              "outlinewidth": 0,
              "ticks": ""
             }
            },
            "type": "scatterpolar"
           }
          ],
          "scatterpolargl": [
           {
            "marker": {
             "colorbar": {
              "outlinewidth": 0,
              "ticks": ""
             }
            },
            "type": "scatterpolargl"
           }
          ],
          "scatterternary": [
           {
            "marker": {
             "colorbar": {
              "outlinewidth": 0,
              "ticks": ""
             }
            },
            "type": "scatterternary"
           }
          ],
          "surface": [
           {
            "colorbar": {
             "outlinewidth": 0,
             "ticks": ""
            },
            "colorscale": [
             [
              0,
              "#0d0887"
             ],
             [
              0.1111111111111111,
              "#46039f"
             ],
             [
              0.2222222222222222,
              "#7201a8"
             ],
             [
              0.3333333333333333,
              "#9c179e"
             ],
             [
              0.4444444444444444,
              "#bd3786"
             ],
             [
              0.5555555555555556,
              "#d8576b"
             ],
             [
              0.6666666666666666,
              "#ed7953"
             ],
             [
              0.7777777777777778,
              "#fb9f3a"
             ],
             [
              0.8888888888888888,
              "#fdca26"
             ],
             [
              1,
              "#f0f921"
             ]
            ],
            "type": "surface"
           }
          ],
          "table": [
           {
            "cells": {
             "fill": {
              "color": "#EBF0F8"
             },
             "line": {
              "color": "white"
             }
            },
            "header": {
             "fill": {
              "color": "#C8D4E3"
             },
             "line": {
              "color": "white"
             }
            },
            "type": "table"
           }
          ]
         },
         "layout": {
          "annotationdefaults": {
           "arrowcolor": "#2a3f5f",
           "arrowhead": 0,
           "arrowwidth": 1
          },
          "autotypenumbers": "strict",
          "coloraxis": {
           "colorbar": {
            "outlinewidth": 0,
            "ticks": ""
           }
          },
          "colorscale": {
           "diverging": [
            [
             0,
             "#8e0152"
            ],
            [
             0.1,
             "#c51b7d"
            ],
            [
             0.2,
             "#de77ae"
            ],
            [
             0.3,
             "#f1b6da"
            ],
            [
             0.4,
             "#fde0ef"
            ],
            [
             0.5,
             "#f7f7f7"
            ],
            [
             0.6,
             "#e6f5d0"
            ],
            [
             0.7,
             "#b8e186"
            ],
            [
             0.8,
             "#7fbc41"
            ],
            [
             0.9,
             "#4d9221"
            ],
            [
             1,
             "#276419"
            ]
           ],
           "sequential": [
            [
             0,
             "#0d0887"
            ],
            [
             0.1111111111111111,
             "#46039f"
            ],
            [
             0.2222222222222222,
             "#7201a8"
            ],
            [
             0.3333333333333333,
             "#9c179e"
            ],
            [
             0.4444444444444444,
             "#bd3786"
            ],
            [
             0.5555555555555556,
             "#d8576b"
            ],
            [
             0.6666666666666666,
             "#ed7953"
            ],
            [
             0.7777777777777778,
             "#fb9f3a"
            ],
            [
             0.8888888888888888,
             "#fdca26"
            ],
            [
             1,
             "#f0f921"
            ]
           ],
           "sequentialminus": [
            [
             0,
             "#0d0887"
            ],
            [
             0.1111111111111111,
             "#46039f"
            ],
            [
             0.2222222222222222,
             "#7201a8"
            ],
            [
             0.3333333333333333,
             "#9c179e"
            ],
            [
             0.4444444444444444,
             "#bd3786"
            ],
            [
             0.5555555555555556,
             "#d8576b"
            ],
            [
             0.6666666666666666,
             "#ed7953"
            ],
            [
             0.7777777777777778,
             "#fb9f3a"
            ],
            [
             0.8888888888888888,
             "#fdca26"
            ],
            [
             1,
             "#f0f921"
            ]
           ]
          },
          "colorway": [
           "#636efa",
           "#EF553B",
           "#00cc96",
           "#ab63fa",
           "#FFA15A",
           "#19d3f3",
           "#FF6692",
           "#B6E880",
           "#FF97FF",
           "#FECB52"
          ],
          "font": {
           "color": "#2a3f5f"
          },
          "geo": {
           "bgcolor": "white",
           "lakecolor": "white",
           "landcolor": "#E5ECF6",
           "showlakes": true,
           "showland": true,
           "subunitcolor": "white"
          },
          "hoverlabel": {
           "align": "left"
          },
          "hovermode": "closest",
          "mapbox": {
           "style": "light"
          },
          "paper_bgcolor": "white",
          "plot_bgcolor": "#E5ECF6",
          "polar": {
           "angularaxis": {
            "gridcolor": "white",
            "linecolor": "white",
            "ticks": ""
           },
           "bgcolor": "#E5ECF6",
           "radialaxis": {
            "gridcolor": "white",
            "linecolor": "white",
            "ticks": ""
           }
          },
          "scene": {
           "xaxis": {
            "backgroundcolor": "#E5ECF6",
            "gridcolor": "white",
            "gridwidth": 2,
            "linecolor": "white",
            "showbackground": true,
            "ticks": "",
            "zerolinecolor": "white"
           },
           "yaxis": {
            "backgroundcolor": "#E5ECF6",
            "gridcolor": "white",
            "gridwidth": 2,
            "linecolor": "white",
            "showbackground": true,
            "ticks": "",
            "zerolinecolor": "white"
           },
           "zaxis": {
            "backgroundcolor": "#E5ECF6",
            "gridcolor": "white",
            "gridwidth": 2,
            "linecolor": "white",
            "showbackground": true,
            "ticks": "",
            "zerolinecolor": "white"
           }
          },
          "shapedefaults": {
           "line": {
            "color": "#2a3f5f"
           }
          },
          "ternary": {
           "aaxis": {
            "gridcolor": "white",
            "linecolor": "white",
            "ticks": ""
           },
           "baxis": {
            "gridcolor": "white",
            "linecolor": "white",
            "ticks": ""
           },
           "bgcolor": "#E5ECF6",
           "caxis": {
            "gridcolor": "white",
            "linecolor": "white",
            "ticks": ""
           }
          },
          "title": {
           "x": 0.05
          },
          "xaxis": {
           "automargin": true,
           "gridcolor": "white",
           "linecolor": "white",
           "ticks": "",
           "title": {
            "standoff": 15
           },
           "zerolinecolor": "white",
           "zerolinewidth": 2
          },
          "yaxis": {
           "automargin": true,
           "gridcolor": "white",
           "linecolor": "white",
           "ticks": "",
           "title": {
            "standoff": 15
           },
           "zerolinecolor": "white",
           "zerolinewidth": 2
          }
         }
        },
        "title": {
         "text": "Season 2021-22 Gameweek 9 Points "
        },
        "xaxis": {
         "anchor": "y",
         "domain": [
          0,
          1
         ],
         "title": {
          "text": "Formations"
         }
        },
        "yaxis": {
         "anchor": "x",
         "domain": [
          0,
          1
         ],
         "title": {
          "text": "Points"
         }
        }
       }
      },
      "text/html": [
       "<div>                            <div id=\"7943ebc7-209f-47aa-a043-f0199bb22e48\" class=\"plotly-graph-div\" style=\"height:525px; width:100%;\"></div>            <script type=\"text/javascript\">                require([\"plotly\"], function(Plotly) {                    window.PLOTLYENV=window.PLOTLYENV || {};                                    if (document.getElementById(\"7943ebc7-209f-47aa-a043-f0199bb22e48\")) {                    Plotly.newPlot(                        \"7943ebc7-209f-47aa-a043-f0199bb22e48\",                        [{\"alignmentgroup\":\"True\",\"hovertemplate\":\"variable=Predicted<br>Formations=%{x}<br>Points=%{y}<extra></extra>\",\"legendgroup\":\"Predicted\",\"marker\":{\"color\":\"#636efa\",\"pattern\":{\"shape\":\"\"}},\"name\":\"Predicted\",\"offsetgroup\":\"Predicted\",\"orientation\":\"v\",\"showlegend\":true,\"textposition\":\"auto\",\"x\":[\"4-4-2\",\"4-3-3\",\"3-4-3\",\"3-5-2\",\"4-5-1\",\"5-2-3\",\"5-4-1\"],\"xaxis\":\"x\",\"y\":[181.71529682380333,175.56316616575302,180.19405159123588,184.75529217979997,182.5191443042495,167.51083358937467,178.57367599610492],\"yaxis\":\"y\",\"type\":\"bar\"},{\"alignmentgroup\":\"True\",\"hovertemplate\":\"variable=Actual<br>Formations=%{x}<br>Points=%{y}<extra></extra>\",\"legendgroup\":\"Actual\",\"marker\":{\"color\":\"#EF553B\",\"pattern\":{\"shape\":\"\"}},\"name\":\"Actual\",\"offsetgroup\":\"Actual\",\"orientation\":\"v\",\"showlegend\":true,\"textposition\":\"auto\",\"x\":[\"4-4-2\",\"4-3-3\",\"3-4-3\",\"3-5-2\",\"4-5-1\",\"5-2-3\",\"5-4-1\"],\"xaxis\":\"x\",\"y\":[166.0,159.0,162.0,167.0,167.0,150.0,163.0],\"yaxis\":\"y\",\"type\":\"bar\"}],                        {\"template\":{\"data\":{\"histogram2dcontour\":[{\"type\":\"histogram2dcontour\",\"colorbar\":{\"outlinewidth\":0,\"ticks\":\"\"},\"colorscale\":[[0.0,\"#0d0887\"],[0.1111111111111111,\"#46039f\"],[0.2222222222222222,\"#7201a8\"],[0.3333333333333333,\"#9c179e\"],[0.4444444444444444,\"#bd3786\"],[0.5555555555555556,\"#d8576b\"],[0.6666666666666666,\"#ed7953\"],[0.7777777777777778,\"#fb9f3a\"],[0.8888888888888888,\"#fdca26\"],[1.0,\"#f0f921\"]]}],\"choropleth\":[{\"type\":\"choropleth\",\"colorbar\":{\"outlinewidth\":0,\"ticks\":\"\"}}],\"histogram2d\":[{\"type\":\"histogram2d\",\"colorbar\":{\"outlinewidth\":0,\"ticks\":\"\"},\"colorscale\":[[0.0,\"#0d0887\"],[0.1111111111111111,\"#46039f\"],[0.2222222222222222,\"#7201a8\"],[0.3333333333333333,\"#9c179e\"],[0.4444444444444444,\"#bd3786\"],[0.5555555555555556,\"#d8576b\"],[0.6666666666666666,\"#ed7953\"],[0.7777777777777778,\"#fb9f3a\"],[0.8888888888888888,\"#fdca26\"],[1.0,\"#f0f921\"]]}],\"heatmap\":[{\"type\":\"heatmap\",\"colorbar\":{\"outlinewidth\":0,\"ticks\":\"\"},\"colorscale\":[[0.0,\"#0d0887\"],[0.1111111111111111,\"#46039f\"],[0.2222222222222222,\"#7201a8\"],[0.3333333333333333,\"#9c179e\"],[0.4444444444444444,\"#bd3786\"],[0.5555555555555556,\"#d8576b\"],[0.6666666666666666,\"#ed7953\"],[0.7777777777777778,\"#fb9f3a\"],[0.8888888888888888,\"#fdca26\"],[1.0,\"#f0f921\"]]}],\"heatmapgl\":[{\"type\":\"heatmapgl\",\"colorbar\":{\"outlinewidth\":0,\"ticks\":\"\"},\"colorscale\":[[0.0,\"#0d0887\"],[0.1111111111111111,\"#46039f\"],[0.2222222222222222,\"#7201a8\"],[0.3333333333333333,\"#9c179e\"],[0.4444444444444444,\"#bd3786\"],[0.5555555555555556,\"#d8576b\"],[0.6666666666666666,\"#ed7953\"],[0.7777777777777778,\"#fb9f3a\"],[0.8888888888888888,\"#fdca26\"],[1.0,\"#f0f921\"]]}],\"contourcarpet\":[{\"type\":\"contourcarpet\",\"colorbar\":{\"outlinewidth\":0,\"ticks\":\"\"}}],\"contour\":[{\"type\":\"contour\",\"colorbar\":{\"outlinewidth\":0,\"ticks\":\"\"},\"colorscale\":[[0.0,\"#0d0887\"],[0.1111111111111111,\"#46039f\"],[0.2222222222222222,\"#7201a8\"],[0.3333333333333333,\"#9c179e\"],[0.4444444444444444,\"#bd3786\"],[0.5555555555555556,\"#d8576b\"],[0.6666666666666666,\"#ed7953\"],[0.7777777777777778,\"#fb9f3a\"],[0.8888888888888888,\"#fdca26\"],[1.0,\"#f0f921\"]]}],\"surface\":[{\"type\":\"surface\",\"colorbar\":{\"outlinewidth\":0,\"ticks\":\"\"},\"colorscale\":[[0.0,\"#0d0887\"],[0.1111111111111111,\"#46039f\"],[0.2222222222222222,\"#7201a8\"],[0.3333333333333333,\"#9c179e\"],[0.4444444444444444,\"#bd3786\"],[0.5555555555555556,\"#d8576b\"],[0.6666666666666666,\"#ed7953\"],[0.7777777777777778,\"#fb9f3a\"],[0.8888888888888888,\"#fdca26\"],[1.0,\"#f0f921\"]]}],\"mesh3d\":[{\"type\":\"mesh3d\",\"colorbar\":{\"outlinewidth\":0,\"ticks\":\"\"}}],\"scatter\":[{\"fillpattern\":{\"fillmode\":\"overlay\",\"size\":10,\"solidity\":0.2},\"type\":\"scatter\"}],\"parcoords\":[{\"type\":\"parcoords\",\"line\":{\"colorbar\":{\"outlinewidth\":0,\"ticks\":\"\"}}}],\"scatterpolargl\":[{\"type\":\"scatterpolargl\",\"marker\":{\"colorbar\":{\"outlinewidth\":0,\"ticks\":\"\"}}}],\"bar\":[{\"error_x\":{\"color\":\"#2a3f5f\"},\"error_y\":{\"color\":\"#2a3f5f\"},\"marker\":{\"line\":{\"color\":\"#E5ECF6\",\"width\":0.5},\"pattern\":{\"fillmode\":\"overlay\",\"size\":10,\"solidity\":0.2}},\"type\":\"bar\"}],\"scattergeo\":[{\"type\":\"scattergeo\",\"marker\":{\"colorbar\":{\"outlinewidth\":0,\"ticks\":\"\"}}}],\"scatterpolar\":[{\"type\":\"scatterpolar\",\"marker\":{\"colorbar\":{\"outlinewidth\":0,\"ticks\":\"\"}}}],\"histogram\":[{\"marker\":{\"pattern\":{\"fillmode\":\"overlay\",\"size\":10,\"solidity\":0.2}},\"type\":\"histogram\"}],\"scattergl\":[{\"type\":\"scattergl\",\"marker\":{\"colorbar\":{\"outlinewidth\":0,\"ticks\":\"\"}}}],\"scatter3d\":[{\"type\":\"scatter3d\",\"line\":{\"colorbar\":{\"outlinewidth\":0,\"ticks\":\"\"}},\"marker\":{\"colorbar\":{\"outlinewidth\":0,\"ticks\":\"\"}}}],\"scattermapbox\":[{\"type\":\"scattermapbox\",\"marker\":{\"colorbar\":{\"outlinewidth\":0,\"ticks\":\"\"}}}],\"scatterternary\":[{\"type\":\"scatterternary\",\"marker\":{\"colorbar\":{\"outlinewidth\":0,\"ticks\":\"\"}}}],\"scattercarpet\":[{\"type\":\"scattercarpet\",\"marker\":{\"colorbar\":{\"outlinewidth\":0,\"ticks\":\"\"}}}],\"carpet\":[{\"aaxis\":{\"endlinecolor\":\"#2a3f5f\",\"gridcolor\":\"white\",\"linecolor\":\"white\",\"minorgridcolor\":\"white\",\"startlinecolor\":\"#2a3f5f\"},\"baxis\":{\"endlinecolor\":\"#2a3f5f\",\"gridcolor\":\"white\",\"linecolor\":\"white\",\"minorgridcolor\":\"white\",\"startlinecolor\":\"#2a3f5f\"},\"type\":\"carpet\"}],\"table\":[{\"cells\":{\"fill\":{\"color\":\"#EBF0F8\"},\"line\":{\"color\":\"white\"}},\"header\":{\"fill\":{\"color\":\"#C8D4E3\"},\"line\":{\"color\":\"white\"}},\"type\":\"table\"}],\"barpolar\":[{\"marker\":{\"line\":{\"color\":\"#E5ECF6\",\"width\":0.5},\"pattern\":{\"fillmode\":\"overlay\",\"size\":10,\"solidity\":0.2}},\"type\":\"barpolar\"}],\"pie\":[{\"automargin\":true,\"type\":\"pie\"}]},\"layout\":{\"autotypenumbers\":\"strict\",\"colorway\":[\"#636efa\",\"#EF553B\",\"#00cc96\",\"#ab63fa\",\"#FFA15A\",\"#19d3f3\",\"#FF6692\",\"#B6E880\",\"#FF97FF\",\"#FECB52\"],\"font\":{\"color\":\"#2a3f5f\"},\"hovermode\":\"closest\",\"hoverlabel\":{\"align\":\"left\"},\"paper_bgcolor\":\"white\",\"plot_bgcolor\":\"#E5ECF6\",\"polar\":{\"bgcolor\":\"#E5ECF6\",\"angularaxis\":{\"gridcolor\":\"white\",\"linecolor\":\"white\",\"ticks\":\"\"},\"radialaxis\":{\"gridcolor\":\"white\",\"linecolor\":\"white\",\"ticks\":\"\"}},\"ternary\":{\"bgcolor\":\"#E5ECF6\",\"aaxis\":{\"gridcolor\":\"white\",\"linecolor\":\"white\",\"ticks\":\"\"},\"baxis\":{\"gridcolor\":\"white\",\"linecolor\":\"white\",\"ticks\":\"\"},\"caxis\":{\"gridcolor\":\"white\",\"linecolor\":\"white\",\"ticks\":\"\"}},\"coloraxis\":{\"colorbar\":{\"outlinewidth\":0,\"ticks\":\"\"}},\"colorscale\":{\"sequential\":[[0.0,\"#0d0887\"],[0.1111111111111111,\"#46039f\"],[0.2222222222222222,\"#7201a8\"],[0.3333333333333333,\"#9c179e\"],[0.4444444444444444,\"#bd3786\"],[0.5555555555555556,\"#d8576b\"],[0.6666666666666666,\"#ed7953\"],[0.7777777777777778,\"#fb9f3a\"],[0.8888888888888888,\"#fdca26\"],[1.0,\"#f0f921\"]],\"sequentialminus\":[[0.0,\"#0d0887\"],[0.1111111111111111,\"#46039f\"],[0.2222222222222222,\"#7201a8\"],[0.3333333333333333,\"#9c179e\"],[0.4444444444444444,\"#bd3786\"],[0.5555555555555556,\"#d8576b\"],[0.6666666666666666,\"#ed7953\"],[0.7777777777777778,\"#fb9f3a\"],[0.8888888888888888,\"#fdca26\"],[1.0,\"#f0f921\"]],\"diverging\":[[0,\"#8e0152\"],[0.1,\"#c51b7d\"],[0.2,\"#de77ae\"],[0.3,\"#f1b6da\"],[0.4,\"#fde0ef\"],[0.5,\"#f7f7f7\"],[0.6,\"#e6f5d0\"],[0.7,\"#b8e186\"],[0.8,\"#7fbc41\"],[0.9,\"#4d9221\"],[1,\"#276419\"]]},\"xaxis\":{\"gridcolor\":\"white\",\"linecolor\":\"white\",\"ticks\":\"\",\"title\":{\"standoff\":15},\"zerolinecolor\":\"white\",\"automargin\":true,\"zerolinewidth\":2},\"yaxis\":{\"gridcolor\":\"white\",\"linecolor\":\"white\",\"ticks\":\"\",\"title\":{\"standoff\":15},\"zerolinecolor\":\"white\",\"automargin\":true,\"zerolinewidth\":2},\"scene\":{\"xaxis\":{\"backgroundcolor\":\"#E5ECF6\",\"gridcolor\":\"white\",\"linecolor\":\"white\",\"showbackground\":true,\"ticks\":\"\",\"zerolinecolor\":\"white\",\"gridwidth\":2},\"yaxis\":{\"backgroundcolor\":\"#E5ECF6\",\"gridcolor\":\"white\",\"linecolor\":\"white\",\"showbackground\":true,\"ticks\":\"\",\"zerolinecolor\":\"white\",\"gridwidth\":2},\"zaxis\":{\"backgroundcolor\":\"#E5ECF6\",\"gridcolor\":\"white\",\"linecolor\":\"white\",\"showbackground\":true,\"ticks\":\"\",\"zerolinecolor\":\"white\",\"gridwidth\":2}},\"shapedefaults\":{\"line\":{\"color\":\"#2a3f5f\"}},\"annotationdefaults\":{\"arrowcolor\":\"#2a3f5f\",\"arrowhead\":0,\"arrowwidth\":1},\"geo\":{\"bgcolor\":\"white\",\"landcolor\":\"#E5ECF6\",\"subunitcolor\":\"white\",\"showland\":true,\"showlakes\":true,\"lakecolor\":\"white\"},\"title\":{\"x\":0.05},\"mapbox\":{\"style\":\"light\"}}},\"xaxis\":{\"anchor\":\"y\",\"domain\":[0.0,1.0],\"title\":{\"text\":\"Formations\"}},\"yaxis\":{\"anchor\":\"x\",\"domain\":[0.0,1.0],\"title\":{\"text\":\"Points\"}},\"legend\":{\"title\":{\"text\":\"variable\"},\"tracegroupgap\":0},\"title\":{\"text\":\"Season 2021-22 Gameweek 9 Points \"},\"barmode\":\"group\"},                        {\"responsive\": true}                    ).then(function(){\n",
       "                            \n",
       "var gd = document.getElementById('7943ebc7-209f-47aa-a043-f0199bb22e48');\n",
       "var x = new MutationObserver(function (mutations, observer) {{\n",
       "        var display = window.getComputedStyle(gd).display;\n",
       "        if (!display || display === 'none') {{\n",
       "            console.log([gd, 'removed!']);\n",
       "            Plotly.purge(gd);\n",
       "            observer.disconnect();\n",
       "        }}\n",
       "}});\n",
       "\n",
       "// Listen for the removal of the full notebook cells\n",
       "var notebookContainer = gd.closest('#notebook-container');\n",
       "if (notebookContainer) {{\n",
       "    x.observe(notebookContainer, {childList: true});\n",
       "}}\n",
       "\n",
       "// Listen for the clearing of the current output cell\n",
       "var outputEl = gd.closest('.output');\n",
       "if (outputEl) {{\n",
       "    x.observe(outputEl, {childList: true});\n",
       "}}\n",
       "\n",
       "                        })                };                });            </script>        </div>"
      ]
     },
     "metadata": {},
     "output_type": "display_data"
    }
   ],
   "source": [
    "fig = px.bar(df, x=\"Formations\", y=[\"Predicted\",\"Actual\"],labels={'value':'Points'} ,title=\"Season 2021-22 Gameweek \"+ str(input_week)\n",
    "             +\" Points \",\n",
    "             barmode='group')\n",
    "fig.show()"
   ]
  },
  {
   "cell_type": "code",
   "execution_count": 74,
   "id": "bbcaa118",
   "metadata": {},
   "outputs": [
    {
     "name": "stdout",
     "output_type": "stream",
     "text": [
      "Best Formation for the week (prediction) :\n",
      "\n"
     ]
    },
    {
     "data": {
      "image/png": "[encoded data removed]",
      "text/plain": [
       "<Figure size 504x360 with 1 Axes>"
      ]
     },
     "metadata": {
      "needs_background": "light"
     },
     "output_type": "display_data"
    }
   ],
   "source": [
    "print(\"Best Formation for the week (prediction) :\\n\")\n",
    "createPitch(form,df,True)"
   ]
  },
  {
   "cell_type": "code",
   "execution_count": 75,
   "id": "0040079e",
   "metadata": {},
   "outputs": [
    {
     "name": "stdout",
     "output_type": "stream",
     "text": [
      "Actual preformance :\n",
      "\n"
     ]
    },
    {
     "data": {
      "image/png": "[encoded data removed]",
      "text/plain": [
       "<Figure size 504x360 with 1 Axes>"
      ]
     },
     "metadata": {
      "needs_background": "light"
     },
     "output_type": "display_data"
    }
   ],
   "source": [
    "print(\"Actual preformance :\\n\")\n",
    "createPitch(form2,df,False)"
   ]
  },
  {
   "cell_type": "code",
   "execution_count": null,
   "id": "1d2f0db4",
   "metadata": {},
   "outputs": [],
   "source": []
  },
  {
   "cell_type": "code",
   "execution_count": null,
   "id": "a53a3ba8",
   "metadata": {},
   "outputs": [],
   "source": []
  },
  {
   "cell_type": "code",
   "execution_count": null,
   "id": "130351e1",
   "metadata": {},
   "outputs": [],
   "source": []
  }
 ],
 "metadata": {
  "kernelspec": {
   "display_name": "Python 3 (ipykernel)",
   "language": "python",
   "name": "python3"
  },
  "language_info": {
   "codemirror_mode": {
    "name": "ipython",
    "version": 3
   },
   "file_extension": ".py",
   "mimetype": "text/x-python",
   "name": "python",
   "nbconvert_exporter": "python",
   "pygments_lexer": "ipython3",
   "version": "3.9.7"
  }
 },
 "nbformat": 4,
 "nbformat_minor": 5
}
